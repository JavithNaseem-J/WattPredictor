{
 "cells": [
  {
   "cell_type": "code",
   "execution_count": 1,
   "id": "9d1f2c06",
   "metadata": {},
   "outputs": [],
   "source": [
    "from WattPredictor.utils.helpers import *\n",
    "from WattPredictor.constants import *\n",
    "from WattPredictor.utils.exception import *\n",
    "from WattPredictor.utils.logging import logger\n",
    "from pathlib import Path\n",
    "from dataclasses import dataclass"
   ]
  },
  {
   "cell_type": "code",
   "execution_count": 2,
   "id": "c8d54604",
   "metadata": {},
   "outputs": [],
   "source": [
    "import os\n",
    "import sys\n",
    "os.chdir('../')\n",
    "sys.path.append(os.path.join(os.getcwd(), \"src\"))"
   ]
  },
  {
   "cell_type": "code",
   "execution_count": 3,
   "id": "42721cc6",
   "metadata": {},
   "outputs": [],
   "source": [
    "import pandas as pd\n",
    "import numpy as np\n",
    "from datetime import datetime, timedelta\n",
    "from WattPredictor.utils.exception import CustomException\n",
    "from WattPredictor.utils.feature import feature_store_instance\n",
    "from WattPredictor.utils.helpers import create_directories\n",
    "from WattPredictor.entity.config_entity import PredictionConfig\n",
    "from WattPredictor.config.inference_config import InferenceConfigurationManager\n",
    "from WattPredictor.utils.ts_generator import average_demand_last_4_weeks\n",
    "from WattPredictor.utils.logging import logger\n",
    "\n",
    "class Predictor:\n",
    "    def __init__(self, config: PredictionConfig):\n",
    "        self.config = config\n",
    "        self.feature_store = feature_store_instance()\n",
    "        self.model = self.feature_store.load_model(\n",
    "            model_name=self.config.model_name,\n",
    "            model_version=self.config.model_version,\n",
    "            model_filename='model.joblib'\n",
    "        )\n",
    "\n",
    "    def _load_batch_features(self, current_date):\n",
    "        feature_view = self.feature_store.feature_store.get_feature_view(\n",
    "            name=self.config.feature_view_name,\n",
    "            version=self.config.feature_view_version\n",
    "        )\n",
    "        fetch_data_to = datetime.now() - timedelta(hours=1)\n",
    "        fetch_data_from = datetime.now() - timedelta(days=29)\n",
    "        ts_data = feature_view.get_batch_data(\n",
    "            start_time=fetch_data_from,\n",
    "            end_time=fetch_data_to\n",
    "        )\n",
    "        ts_data = ts_data.groupby('sub_region_code').tail(self.config.n_features)\n",
    "        ts_data.sort_values(by=['sub_region_code', 'date'], inplace=True)\n",
    "\n",
    "        location_ids = ts_data['sub_region_code'].unique()\n",
    "        x = np.ndarray((len(location_ids), self.config.n_features), dtype=np.float32)\n",
    "        additional_features = {\n",
    "            'temperature_2m': [], 'hour': [], 'day_of_week': [], 'month': [], \n",
    "            'is_weekend': [], 'is_holiday': []\n",
    "        }\n",
    "\n",
    "        for i, loc in enumerate(location_ids):\n",
    "            sub_data = ts_data[ts_data['sub_region_code'] == loc]\n",
    "            demand_series = sub_data['demand'].values[-self.config.n_features:]\n",
    "            if len(demand_series) < self.config.n_features:\n",
    "                demand_series = np.pad(demand_series, \n",
    "                                     (self.config.n_features - len(demand_series), 0), \n",
    "                                     'constant', constant_values=0)\n",
    "            x[i, :] = demand_series\n",
    "            for col in additional_features:\n",
    "                additional_features[col].append(sub_data[col].iloc[-1])\n",
    "\n",
    "        features = pd.DataFrame(\n",
    "            x, columns=[f'demand_previous_{i+1}_hour' for i in reversed(range(self.config.n_features))]\n",
    "        )\n",
    "        for col in additional_features:\n",
    "            features[col] = additional_features[col]\n",
    "        features['date'] = (datetime.now() - timedelta(days=1)).replace(hour=4, minute=0, second=0, microsecond=0)\n",
    "        features['sub_region_code'] = location_ids\n",
    "        features = average_demand_last_4_weeks(features)\n",
    "        return features\n",
    "\n",
    "    def save_predictions_to_store(self, predictions: pd.DataFrame):\n",
    "        if predictions.empty:\n",
    "            return\n",
    "        self.feature_store.create_feature_group(\n",
    "            name='elec_wx_predictions',\n",
    "            df=predictions,\n",
    "            primary_key=[\"sub_region_code\"],\n",
    "            event_time=\"date\",\n",
    "            description=\"Predicted electricity demand\",\n",
    "            online_enabled=True\n",
    "        )\n",
    "        logger.info(\"Predictions saved to feature store\")\n",
    "\n",
    "    def predict(self, save_to_store: bool = False) -> pd.DataFrame:\n",
    "        features = self._load_batch_features(datetime.now())\n",
    "        feature_input = features.drop(columns=['date', 'sub_region_code'], errors='ignore')\n",
    "        predictions = self.model.predict(feature_input)\n",
    "        predictions_df = pd.DataFrame({\n",
    "            'sub_region_code': features['sub_region_code'],\n",
    "            'predicted_demand': predictions.round(0),\n",
    "            'date': (datetime.now() - timedelta(days=1)).replace(hour=4, minute=0, second=0, microsecond=0)\n",
    "        })\n",
    "        if save_to_store:\n",
    "            self.save_predictions_to_store(predictions_df)\n",
    "        create_directories([self.config.predictions_df.parent])\n",
    "        predictions_df.to_csv(self.config.predictions_df, index=False)\n",
    "        logger.info(\"Predictions generated successfully\")\n",
    "        return predictions_df"
   ]
  },
  {
   "cell_type": "code",
   "execution_count": 4,
   "id": "93fdf047",
   "metadata": {},
   "outputs": [
    {
     "name": "stdout",
     "output_type": "stream",
     "text": [
      "[2025-07-20 19:59:01,837: INFO: helpers: yaml file: config_file\\config.yaml loaded successfully]\n",
      "[2025-07-20 19:59:01,845: INFO: helpers: yaml file: config_file\\params.yaml loaded successfully]\n",
      "[2025-07-20 19:59:01,848: INFO: helpers: yaml file: config_file\\schema.yaml loaded successfully]\n",
      "[2025-07-20 19:59:01,850: INFO: helpers: created directory at: artifacts]\n",
      "[2025-07-20 19:59:01,856: INFO: helpers: yaml file: config_file\\config.yaml loaded successfully]\n",
      "[2025-07-20 19:59:01,858: INFO: external: Initializing external client]\n",
      "[2025-07-20 19:59:01,859: INFO: external: Base URL: https://c.app.hopsworks.ai:443]\n",
      "[2025-07-20 19:59:04,972: INFO: python: Python Engine initialized.]\n",
      "\n",
      "Logged in to project, explore it here https://c.app.hopsworks.ai:443/p/1240214\n",
      "[2025-07-20 19:59:07,830: INFO: feature_store: Connected to Hopsworks Feature Store: WattPredictor]\n"
     ]
    },
    {
     "data": {
      "application/vnd.jupyter.widget-view+json": {
       "model_id": "9ec9e0eb48754b6cb958d755709fe7a2",
       "version_major": 2,
       "version_minor": 0
      },
      "text/plain": [
       "Downloading: 0.000%|          | 0/1065555 elapsed<00:00 remaining<?"
      ]
     },
     "metadata": {},
     "output_type": "display_data"
    },
    {
     "name": "stdout",
     "output_type": "stream",
     "text": [
      "[2025-07-20 19:59:13,048: INFO: feature_store: Model 'wattpredictor_lightgbm' v1 loaded successfully.]\n",
      "Finished: Reading data from Hopsworks, using Hopsworks Feature Query Service (2.53s) \n"
     ]
    },
    {
     "name": "stderr",
     "output_type": "stream",
     "text": [
      "Uploading Dataframe: 100.00% |██████████| Rows 11/11 | Elapsed Time: 00:01 | Remaining Time: 00:00\n"
     ]
    },
    {
     "name": "stdout",
     "output_type": "stream",
     "text": [
      "Launching job: elec_wx_predictions_2_offline_fg_materialization\n",
      "Job started successfully, you can follow the progress at \n",
      "https://c.app.hopsworks.ai:443/p/1240214/jobs/named/elec_wx_predictions_2_offline_fg_materialization/executions\n",
      "[2025-07-20 19:59:43,401: INFO: feature_store: Feature Group 'elec_wx_predictions' v2 exists. Data inserted.]\n",
      "[2025-07-20 19:59:43,403: INFO: 1573691052: Predictions saved to feature store]\n",
      "[2025-07-20 19:59:43,405: INFO: helpers: created directory at: artifacts\\prediction]\n",
      "[2025-07-20 19:59:43,419: INFO: 1573691052: Predictions generated successfully]\n"
     ]
    }
   ],
   "source": [
    "try:\n",
    "    config = InferenceConfigurationManager()\n",
    "    predictor_config = config.get_data_prediction_config()\n",
    "    predictor = Predictor(config=predictor_config)\n",
    "    predictor.predict(save_to_store=True)\n",
    "except Exception as e:\n",
    "    raise CustomException(e,sys) from e"
   ]
  }
 ],
 "metadata": {
  "kernelspec": {
   "display_name": "WattPredictor",
   "language": "python",
   "name": "python3"
  },
  "language_info": {
   "codemirror_mode": {
    "name": "ipython",
    "version": 3
   },
   "file_extension": ".py",
   "mimetype": "text/x-python",
   "name": "python",
   "nbconvert_exporter": "python",
   "pygments_lexer": "ipython3",
   "version": "3.10.18"
  }
 },
 "nbformat": 4,
 "nbformat_minor": 5
}
