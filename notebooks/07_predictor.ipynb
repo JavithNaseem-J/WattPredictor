{
 "cells": [
  {
   "cell_type": "code",
   "execution_count": 1,
   "id": "9d1f2c06",
   "metadata": {},
   "outputs": [],
   "source": [
    "from WattPredictor.utils.helpers import *\n",
    "from WattPredictor.constants import *\n",
    "from WattPredictor.utils.exception import *\n",
    "from WattPredictor.utils.logging import logger\n",
    "from pathlib import Path\n",
    "from dataclasses import dataclass\n"
   ]
  },
  {
   "cell_type": "code",
   "execution_count": 2,
   "id": "c8d54604",
   "metadata": {},
   "outputs": [],
   "source": [
    "import os\n",
    "import sys\n",
    "os.chdir('../')\n",
    "sys.path.append(os.path.join(os.getcwd(), \"src\"))"
   ]
  },
  {
   "cell_type": "code",
   "execution_count": 3,
   "id": "42721cc6",
   "metadata": {},
   "outputs": [],
   "source": [
    "import sys\n",
    "import pandas as pd\n",
    "import numpy as np\n",
    "from datetime import datetime, timedelta\n",
    "from WattPredictor.utils.logging import logger\n",
    "from WattPredictor.utils.exception import CustomException\n",
    "from WattPredictor.utils.feature import feature_store_instance\n",
    "\n",
    "\n",
    "class Predictor:\n",
    "    def __init__(self, model_name: str, model_version: int, feature_view_name: str, feature_view_version: int, n_features: int):\n",
    "        self.feature_store = feature_store_instance()\n",
    "        self.model_name = model_name\n",
    "        self.model_version = model_version\n",
    "        self.feature_view_name = feature_view_name\n",
    "        self.feature_view_version = feature_view_version\n",
    "        self.n_features = n_features\n",
    "        self.model = self.feature_store.load_model(\n",
    "            model_name=self.model_name,\n",
    "            model_version=self.model_version,\n",
    "            model_filename='model.joblib'\n",
    "        )\n",
    "\n",
    "    def _load_batch_features(self, current_date: datetime) -> pd.DataFrame:\n",
    "        try:\n",
    "            feature_view = self.feature_store.feature_store.get_feature_view(\n",
    "                name=self.feature_view_name,\n",
    "                version=self.feature_view_version\n",
    "            )\n",
    "\n",
    "            fetch_data_to = current_date - timedelta(hours=1)\n",
    "            fetch_data_from = current_date - timedelta(days=28)\n",
    "\n",
    "            ts_data = feature_view.get_batch_data(\n",
    "                start_time=fetch_data_from,\n",
    "                end_time=fetch_data_to\n",
    "            )\n",
    "\n",
    "            ts_data = ts_data.groupby('sub_region_code').tail(self.n_features)\n",
    "            ts_data.sort_values(by=['sub_region_code', 'date'], inplace=True)\n",
    "\n",
    "            location_ids = ts_data['sub_region_code'].unique()\n",
    "            x = np.ndarray((len(location_ids), self.n_features), dtype=np.float32)\n",
    "            temperature_values = []\n",
    "\n",
    "            for i, loc in enumerate(location_ids):\n",
    "                sub_data = ts_data[ts_data['sub_region_code'] == loc]\n",
    "                demand_series = sub_data['demand'].values[-self.n_features:]\n",
    "\n",
    "                if len(demand_series) < self.n_features:\n",
    "                    logger.warning(f\"Padded {loc}: {len(demand_series)} available, padding to {self.n_features}.\")\n",
    "                    demand_series = np.pad(demand_series, (self.n_features - len(demand_series), 0), 'constant', constant_values=0)\n",
    "\n",
    "                x[i, :] = demand_series\n",
    "                temperature_values.append(sub_data['temperature_2m'].iloc[-1])\n",
    "\n",
    "            features = pd.DataFrame(\n",
    "                x, columns=[f'demand_previous_{i+1}_hour' for i in reversed(range(self.n_features))]\n",
    "            )\n",
    "            features['temperature_2m'] = temperature_values\n",
    "            features['date'] = current_date\n",
    "            features['sub_region_code'] = location_ids\n",
    "\n",
    "            logger.info(f\"Features generated for {len(location_ids)} regions.\")\n",
    "            return features\n",
    "\n",
    "        except Exception as e:\n",
    "            logger.error(\"Failed to load batch features.\")\n",
    "            raise CustomException(e, sys)\n",
    "\n",
    "    def predict(self, current_date: datetime, save_to_store: bool = False) -> pd.DataFrame:\n",
    "        try:\n",
    "            features = self._load_batch_features(current_date)\n",
    "            feature_input = features.drop(columns=['date'], errors='ignore')\n",
    "            predictions = self.model.predict(feature_input)\n",
    "\n",
    "            results = pd.DataFrame({\n",
    "                'sub_region_code': features['sub_region_code'],\n",
    "                'predicted_demand': predictions.round(0),\n",
    "                'date': features['date']\n",
    "            })\n",
    "\n",
    "            logger.info(\"Predictions generated successfully.\")\n",
    "\n",
    "            if save_to_store:\n",
    "                self.save_predictions_to_store(results)\n",
    "\n",
    "            return results\n",
    "\n",
    "        except Exception as e:\n",
    "            logger.error(\"Prediction process failed.\")\n",
    "            raise CustomException(e, sys)\n",
    "\n",
    "    def save_predictions_to_store(self, predictions: pd.DataFrame):\n",
    "        try:\n",
    "            if predictions.empty:\n",
    "                logger.warning(\"No predictions to save.\")\n",
    "                return\n",
    "\n",
    "            self.feature_store.create_feature_group(\n",
    "                name='elec_wx_predictions',\n",
    "                df=predictions,\n",
    "                primary_key=[\"sub_region_code\"],\n",
    "                event_time=\"date\",\n",
    "                description=\"Predicted electricity demand\",\n",
    "                online_enabled=True\n",
    "            )\n",
    "\n",
    "            logger.info(\"Predictions saved to feature store.\")\n",
    "\n",
    "        except Exception as e:\n",
    "            logger.error(\"Failed to save predictions to feature store.\")\n",
    "            raise CustomException(e, sys)"
   ]
  },
  {
   "cell_type": "code",
   "execution_count": 4,
   "id": "93fdf047",
   "metadata": {},
   "outputs": [
    {
     "name": "stdout",
     "output_type": "stream",
     "text": [
      "[2025-07-17 18:28:33,007: INFO: helpers: yaml file: config_file\\config.yaml loaded successfully]\n",
      "[2025-07-17 18:28:33,013: INFO: helpers: yaml file: config_file\\params.yaml loaded successfully]\n",
      "[2025-07-17 18:28:33,016: INFO: helpers: yaml file: config_file\\schema.yaml loaded successfully]\n",
      "[2025-07-17 18:28:33,019: INFO: external: Initializing external client]\n",
      "[2025-07-17 18:28:33,020: INFO: external: Base URL: https://c.app.hopsworks.ai:443]\n",
      "[2025-07-17 18:28:38,097: INFO: python: Python Engine initialized.]\n",
      "\n",
      "Logged in to project, explore it here https://c.app.hopsworks.ai:443/p/1240214\n",
      "[2025-07-17 18:28:40,784: INFO: feature_store: Connected to Hopsworks Feature Store: WattPredictor]\n"
     ]
    },
    {
     "data": {
      "application/vnd.jupyter.widget-view+json": {
       "model_id": "26eed85f12a84b1f891e2ada25ae8484",
       "version_major": 2,
       "version_minor": 0
      },
      "text/plain": [
       "Downloading: 0.000%|          | 0/2154054 elapsed<00:00 remaining<?"
      ]
     },
     "metadata": {},
     "output_type": "display_data"
    },
    {
     "name": "stdout",
     "output_type": "stream",
     "text": [
      "[2025-07-17 18:28:45,905: INFO: feature_store: Model 'wattpredictor_lightgbm' v1 loaded successfully.]\n",
      "Finished: Reading data from Hopsworks, using Hopsworks Feature Query Service (2.14s) \n",
      "[2025-07-17 18:28:53,225: WARNING: 1201174055: Padded 0: 671 available, padding to 672.]\n",
      "[2025-07-17 18:28:53,226: WARNING: 1201174055: Padded 1: 671 available, padding to 672.]\n",
      "[2025-07-17 18:28:53,229: WARNING: 1201174055: Padded 2: 671 available, padding to 672.]\n",
      "[2025-07-17 18:28:53,231: WARNING: 1201174055: Padded 3: 671 available, padding to 672.]\n",
      "[2025-07-17 18:28:53,233: WARNING: 1201174055: Padded 4: 671 available, padding to 672.]\n",
      "[2025-07-17 18:28:53,235: WARNING: 1201174055: Padded 5: 671 available, padding to 672.]\n",
      "[2025-07-17 18:28:53,237: WARNING: 1201174055: Padded 6: 671 available, padding to 672.]\n",
      "[2025-07-17 18:28:53,239: WARNING: 1201174055: Padded 7: 671 available, padding to 672.]\n",
      "[2025-07-17 18:28:53,241: WARNING: 1201174055: Padded 8: 671 available, padding to 672.]\n",
      "[2025-07-17 18:28:53,245: WARNING: 1201174055: Padded 9: 671 available, padding to 672.]\n",
      "[2025-07-17 18:28:53,247: WARNING: 1201174055: Padded 10: 671 available, padding to 672.]\n",
      "[2025-07-17 18:28:53,251: INFO: 1201174055: Features generated for 11 regions.]\n",
      "[2025-07-17 18:28:57,775: INFO: 1201174055: Predictions generated successfully.]\n",
      "Feature Group created successfully, explore it at \n",
      "https://c.app.hopsworks.ai:443/p/1240214/fs/1223749/fg/1494538\n"
     ]
    },
    {
     "name": "stderr",
     "output_type": "stream",
     "text": [
      "Uploading Dataframe: 100.00% |██████████| Rows 11/11 | Elapsed Time: 00:01 | Remaining Time: 00:00\n"
     ]
    },
    {
     "name": "stdout",
     "output_type": "stream",
     "text": [
      "Launching job: elec_wx_predictions_2_offline_fg_materialization\n",
      "Job started successfully, you can follow the progress at \n",
      "https://c.app.hopsworks.ai:443/p/1240214/jobs/named/elec_wx_predictions_2_offline_fg_materialization/executions\n",
      "[2025-07-17 18:29:14,832: INFO: feature_store: Feature Group 'elec_wx_predictions' v2 created successfully.]\n",
      "[2025-07-17 18:29:14,833: INFO: 1201174055: Predictions saved to feature store.]\n",
      "    sub_region_code  predicted_demand       date\n",
      "0                 0            1616.0 2025-05-20\n",
      "1                 1             744.0 2025-05-20\n",
      "2                 2            1297.0 2025-05-20\n",
      "3                 3             548.0 2025-05-20\n",
      "4                 4             651.0 2025-05-20\n",
      "5                 5            1248.0 2025-05-20\n",
      "6                 6             985.0 2025-05-20\n",
      "7                 7             290.0 2025-05-20\n",
      "8                 8             641.0 2025-05-20\n",
      "9                 9            5648.0 2025-05-20\n",
      "10               10            2222.0 2025-05-20\n"
     ]
    }
   ],
   "source": [
    "if __name__ == \"__main__\":\n",
    "    predictor = Predictor(\n",
    "        model_name='wattpredictor_lightgbm',\n",
    "        model_version=1,\n",
    "        feature_view_name='elec_wx_features_view',\n",
    "        feature_view_version=1,\n",
    "        n_features=672\n",
    "    )\n",
    "\n",
    "    current_date = datetime(2025, 5, 20)\n",
    "\n",
    "    predictions = predictor.predict(current_date=current_date, save_to_store=True)\n",
    "    print(predictions)"
   ]
  },
  {
   "cell_type": "code",
   "execution_count": null,
   "id": "1691e639",
   "metadata": {},
   "outputs": [],
   "source": []
  }
 ],
 "metadata": {
  "kernelspec": {
   "display_name": "WattPredictor",
   "language": "python",
   "name": "python3"
  },
  "language_info": {
   "codemirror_mode": {
    "name": "ipython",
    "version": 3
   },
   "file_extension": ".py",
   "mimetype": "text/x-python",
   "name": "python",
   "nbconvert_exporter": "python",
   "pygments_lexer": "ipython3",
   "version": "3.10.18"
  }
 },
 "nbformat": 4,
 "nbformat_minor": 5
}
