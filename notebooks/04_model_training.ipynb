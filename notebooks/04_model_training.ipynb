{
 "cells": [
  {
   "cell_type": "code",
   "execution_count": 1,
   "id": "0005c59d",
   "metadata": {},
   "outputs": [],
   "source": [
    "import os\n",
    "import sys\n",
    "os.chdir('../')\n",
    "sys.path.append(os.path.join(os.getcwd(), \"src\"))"
   ]
  },
  {
   "cell_type": "code",
   "execution_count": 2,
   "id": "8d6d5c18",
   "metadata": {},
   "outputs": [],
   "source": [
    "import os\n",
    "import sys\n",
    "import optuna\n",
    "import joblib\n",
    "import pandas as pd\n",
    "from hsml.schema import Schema\n",
    "from hsml.model_schema import ModelSchema\n",
    "from datetime import datetime, timedelta\n",
    "from WattPredictor.utils.helpers import *\n",
    "from WattPredictor.utils.ts_generator import features_and_target, get_pipeline, average_demand_last_4_weeks\n",
    "from WattPredictor.config.model_config import ModelConfigurationManager\n",
    "from WattPredictor.utils.feature import feature_store_instance\n",
    "from WattPredictor.entity.config_entity import TrainerConfig\n",
    "from sklearn.model_selection import KFold, train_test_split, cross_val_score\n",
    "from sklearn.metrics import mean_squared_error, root_mean_squared_error\n",
    "from WattPredictor.utils.exception import CustomException\n",
    "from WattPredictor.utils.logging import logger\n",
    "\n",
    "class Trainer:\n",
    "    def __init__(self, config: TrainerConfig):\n",
    "        self.config = config\n",
    "        self.feature_store = feature_store_instance()\n",
    "        self.models = {\n",
    "            \"XGBoost\": {\n",
    "                \"search_space\": lambda trial: {\n",
    "                    \"n_estimators\": trial.suggest_int(\"n_estimators\", 50, 300),\n",
    "                    \"max_depth\": trial.suggest_int(\"max_depth\", 3, 10),\n",
    "                    \"learning_rate\": trial.suggest_float(\"learning_rate\", 0.01, 0.3),\n",
    "                }\n",
    "            },\n",
    "            \"LightGBM\": {\n",
    "                \"search_space\": lambda trial: {\n",
    "                    \"num_leaves\": trial.suggest_int(\"num_leaves\", 20, 150),\n",
    "                    \"learning_rate\": trial.suggest_float(\"learning_rate\", 0.01, 0.3),\n",
    "                    \"n_estimators\": trial.suggest_int(\"n_estimators\", 50, 300),\n",
    "                }\n",
    "            }\n",
    "        }\n",
    "\n",
    "    def load_training_data(self):\n",
    "        try:\n",
    "            df, _ = self.feature_store.get_training_data(\"elec_wx_features_view\")\n",
    "            df = df[['date', 'demand', 'sub_region_code', 'temperature_2m', \n",
    "                     'hour', 'day_of_week', 'month', 'is_weekend', 'is_holiday']]\n",
    "            df.sort_values(\"date\", inplace=True)\n",
    "            logger.info(f\"Loaded training data with columns: {list(df.columns)}\")\n",
    "            logger.info(f\"Data range: {df['date'].min()} to {df['date'].max()}\")\n",
    "            return df\n",
    "        except Exception as e:\n",
    "            raise CustomException(f\"Failed to load data from elec_wx_features_view: {e}\", sys)\n",
    "\n",
    "    def train(self):\n",
    "        try:\n",
    "            df = self.load_training_data()\n",
    "            if df.empty:\n",
    "                raise CustomException(\"Loaded DataFrame is empty\", sys)\n",
    "\n",
    "            # Validate data per sub_region_code\n",
    "            for code in df['sub_region_code'].unique():\n",
    "                count = len(df[df['sub_region_code'] == code])\n",
    "                if count < self.config.input_seq_len + 1:\n",
    "                    logger.warning(f\"sub_region_code {code} has insufficient data points ({count} < {self.config.input_seq_len + 1})\")\n",
    "\n",
    "            cutoff_date = (datetime.now() - timedelta(days=90)).strftime(\"%Y-%m-%d\")\n",
    "            train_df, test_df = df[df['date'] < cutoff_date], df[df['date'] >= cutoff_date]\n",
    "\n",
    "            logger.info(f\"train_df shape: {train_df.shape}, date range: {train_df['date'].min()} to {train_df['date'].max()}\")\n",
    "            logger.info(f\"test_df shape: {test_df.shape}, date range: {test_df['date'].min()} to {test_df['date'].max()}\")\n",
    "\n",
    "            if train_df.empty:\n",
    "                raise CustomException(\"Training DataFrame is empty after applying cutoff_date\", sys)\n",
    "            if test_df.empty:\n",
    "                raise CustomException(\"Test DataFrame is empty after applying cutoff_date\", sys)\n",
    "\n",
    "            train_x, train_y = features_and_target(train_df, self.config.input_seq_len, self.config.step_size)\n",
    "            train_x.drop(columns=[\"date\"], errors=\"ignore\", inplace=True)\n",
    "\n",
    "            # Validate dtypes\n",
    "            non_numeric_cols = train_x.select_dtypes(exclude=['int64', 'float64', 'bool']).columns\n",
    "            if not non_numeric_cols.empty:\n",
    "                raise CustomException(f\"Non-numeric columns found in train_x: {non_numeric_cols}\", sys)\n",
    "\n",
    "            # Validate expected features\n",
    "            expected_features = [f'demand_previous_{i+1}_hour' for i in reversed(range(self.config.input_seq_len))] + \\\n",
    "                                ['temperature_2m', 'hour', 'day_of_week', 'month', 'is_weekend', 'is_holiday']\n",
    "            missing_features = [col for col in expected_features if col not in train_x.columns]\n",
    "            if missing_features:\n",
    "                logger.warning(f\"Missing expected features in train_x: {missing_features}. Proceeding with available features.\")\n",
    "\n",
    "            # Preprocess train_x for input schema\n",
    "            train_x_transformed = train_x.copy()\n",
    "            train_x_transformed = average_demand_last_4_weeks(train_x_transformed)\n",
    "\n",
    "            best_overall = {\"model_name\": None, \"score\": float(\"inf\"), \"params\": None}\n",
    "\n",
    "            for model_name, model_info in self.models.items():\n",
    "                logger.info(f\"Running Optuna HPO for {model_name}\")\n",
    "\n",
    "                def objective(trial):\n",
    "                    params = model_info[\"search_space\"](trial)\n",
    "                    pipeline = get_pipeline(model_type=model_name, **params)\n",
    "                    x_tr, x_val, y_tr, y_val = train_test_split(train_x, train_y, test_size=0.2, shuffle=False)\n",
    "                    pipeline.fit(x_tr, y_tr)\n",
    "                    preds = pipeline.predict(x_val)\n",
    "                    return mean_squared_error(y_val, preds)\n",
    "\n",
    "                study = optuna.create_study(direction=\"minimize\")\n",
    "                study.optimize(objective, n_trials=self.config.n_trials)\n",
    "\n",
    "                best_params = study.best_params\n",
    "                pipeline = get_pipeline(model_type=model_name, **best_params)\n",
    "                score = -cross_val_score(pipeline, train_x, train_y, cv=KFold(n_splits=self.config.cv_folds), \n",
    "                                        scoring=\"neg_root_mean_squared_error\").mean()\n",
    "\n",
    "                if score < best_overall[\"score\"]:\n",
    "                    best_overall.update({\n",
    "                        \"model_name\": model_name,\n",
    "                        \"score\": score,\n",
    "                        \"params\": best_params\n",
    "                    })\n",
    "\n",
    "            final_pipeline = get_pipeline(model_type=best_overall[\"model_name\"], **best_overall[\"params\"])\n",
    "            final_pipeline.fit(train_x, train_y)\n",
    "\n",
    "            model_path = Path(self.config.root_dir) / self.config.model_name\n",
    "            create_directories([model_path.parent])\n",
    "            save_bin(final_pipeline, model_path)\n",
    "\n",
    "            input_schema = Schema(train_x_transformed.head(10))\n",
    "            output_schema = Schema(pd.DataFrame(train_y))\n",
    "            model_schema = ModelSchema(input_schema=input_schema, output_schema=output_schema)\n",
    "\n",
    "            model_registry = self.feature_store.project.get_model_registry()\n",
    "            hops_model = model_registry.python.create_model(\n",
    "                name=f\"wattpredictor_{best_overall['model_name'].lower()}\",\n",
    "                metrics={'rmse': best_overall[\"score\"]},\n",
    "                input_example=train_x_transformed.head(10),\n",
    "                model_schema=model_schema,\n",
    "                description=f\"Best {best_overall['model_name']} model with feature engineering pipeline for electricity demand\"\n",
    "            )\n",
    "            hops_model.save(model_path.as_posix())\n",
    "\n",
    "            logger.info(f\"Best model registered: {best_overall['model_name']} with RMSE {best_overall['score']}, params {best_overall['params']}\")\n",
    "            return best_overall\n",
    "\n",
    "        except Exception as e:\n",
    "            raise CustomException(f\"Training failed: {e}\", sys)"
   ]
  },
  {
   "cell_type": "code",
   "execution_count": 3,
   "id": "da36e341",
   "metadata": {},
   "outputs": [
    {
     "name": "stdout",
     "output_type": "stream",
     "text": [
      "[2025-07-20 18:44:46,994: INFO: helpers: yaml file: config_file\\config.yaml loaded successfully]\n",
      "[2025-07-20 18:44:46,999: INFO: helpers: yaml file: config_file\\params.yaml loaded successfully]\n",
      "[2025-07-20 18:44:47,003: INFO: helpers: yaml file: config_file\\schema.yaml loaded successfully]\n",
      "[2025-07-20 18:44:47,004: INFO: helpers: created directory at: artifacts]\n",
      "[2025-07-20 18:44:47,005: INFO: helpers: created directory at: artifacts/trainer]\n",
      "[2025-07-20 18:44:47,014: INFO: helpers: yaml file: config_file\\config.yaml loaded successfully]\n",
      "[2025-07-20 18:44:47,017: INFO: external: Initializing external client]\n",
      "[2025-07-20 18:44:47,018: INFO: external: Base URL: https://c.app.hopsworks.ai:443]\n",
      "[2025-07-20 18:44:49,902: INFO: python: Python Engine initialized.]\n",
      "\n",
      "Logged in to project, explore it here https://c.app.hopsworks.ai:443/p/1240214\n",
      "[2025-07-20 18:44:52,592: INFO: feature_store: Connected to Hopsworks Feature Store: WattPredictor]\n",
      "Finished: Reading data from Hopsworks, using Hopsworks Feature Query Service (7.30s) \n",
      "[2025-07-20 18:45:08,143: WARNING: warnings: VersionWarning: Incremented version to `2`.\n",
      "]\n",
      "[2025-07-20 18:45:08,144: INFO: feature_store: Retrieved training data from Feature View 'elec_wx_features_view'.]\n",
      "[2025-07-20 18:45:08,311: INFO: 2453969390: Loaded training data with columns: ['date', 'demand', 'sub_region_code', 'temperature_2m', 'hour', 'day_of_week', 'month', 'is_weekend', 'is_holiday']]\n",
      "[2025-07-20 18:45:08,383: INFO: 2453969390: Data range: 2024-07-20 04:00:00+00:00 to 2025-07-19 04:00:00+00:00]\n",
      "[2025-07-20 18:45:08,483: INFO: 2453969390: train_df shape: (72512, 9), date range: 2024-07-20 04:00:00+00:00 to 2025-04-20 23:00:00+00:00]\n",
      "[2025-07-20 18:45:08,496: INFO: 2453969390: test_df shape: (23287, 9), date range: 2025-04-21 00:00:00+00:00 to 2025-07-19 04:00:00+00:00]\n"
     ]
    },
    {
     "name": "stderr",
     "output_type": "stream",
     "text": [
      "Generating TS features:   0%|          | 0/11 [00:00<?, ?it/s]"
     ]
    },
    {
     "name": "stdout",
     "output_type": "stream",
     "text": [
      "[2025-07-20 18:45:08,512: INFO: ts_generator: Columns for sub_region_code 7: ['date', 'demand', 'temperature_2m', 'hour', 'day_of_week', 'month', 'is_weekend', 'is_holiday']]\n"
     ]
    },
    {
     "name": "stderr",
     "output_type": "stream",
     "text": [
      "Generating TS features:   9%|▉         | 1/11 [00:00<00:02,  4.00it/s]"
     ]
    },
    {
     "name": "stdout",
     "output_type": "stream",
     "text": [
      "[2025-07-20 18:45:08,761: INFO: ts_generator: Columns for sub_region_code 6: ['date', 'demand', 'temperature_2m', 'hour', 'day_of_week', 'month', 'is_weekend', 'is_holiday']]\n"
     ]
    },
    {
     "name": "stderr",
     "output_type": "stream",
     "text": [
      "Generating TS features:  18%|█▊        | 2/11 [00:00<00:01,  5.27it/s]"
     ]
    },
    {
     "name": "stdout",
     "output_type": "stream",
     "text": [
      "[2025-07-20 18:45:08,909: INFO: ts_generator: Columns for sub_region_code 1: ['date', 'demand', 'temperature_2m', 'hour', 'day_of_week', 'month', 'is_weekend', 'is_holiday']]\n"
     ]
    },
    {
     "name": "stderr",
     "output_type": "stream",
     "text": [
      "Generating TS features:  27%|██▋       | 3/11 [00:00<00:01,  5.54it/s]"
     ]
    },
    {
     "name": "stdout",
     "output_type": "stream",
     "text": [
      "[2025-07-20 18:45:09,081: INFO: ts_generator: Columns for sub_region_code 2: ['date', 'demand', 'temperature_2m', 'hour', 'day_of_week', 'month', 'is_weekend', 'is_holiday']]\n"
     ]
    },
    {
     "name": "stderr",
     "output_type": "stream",
     "text": [
      "Generating TS features:  36%|███▋      | 4/11 [00:00<00:01,  5.37it/s]"
     ]
    },
    {
     "name": "stdout",
     "output_type": "stream",
     "text": [
      "[2025-07-20 18:45:09,273: INFO: ts_generator: Columns for sub_region_code 0: ['date', 'demand', 'temperature_2m', 'hour', 'day_of_week', 'month', 'is_weekend', 'is_holiday']]\n"
     ]
    },
    {
     "name": "stderr",
     "output_type": "stream",
     "text": [
      "Generating TS features:  45%|████▌     | 5/11 [00:00<00:01,  5.83it/s]"
     ]
    },
    {
     "name": "stdout",
     "output_type": "stream",
     "text": [
      "[2025-07-20 18:45:09,423: INFO: ts_generator: Columns for sub_region_code 4: ['date', 'demand', 'temperature_2m', 'hour', 'day_of_week', 'month', 'is_weekend', 'is_holiday']]\n"
     ]
    },
    {
     "name": "stderr",
     "output_type": "stream",
     "text": [
      "Generating TS features:  55%|█████▍    | 6/11 [00:01<00:00,  5.61it/s]"
     ]
    },
    {
     "name": "stdout",
     "output_type": "stream",
     "text": [
      "[2025-07-20 18:45:09,610: INFO: ts_generator: Columns for sub_region_code 3: ['date', 'demand', 'temperature_2m', 'hour', 'day_of_week', 'month', 'is_weekend', 'is_holiday']]\n"
     ]
    },
    {
     "name": "stderr",
     "output_type": "stream",
     "text": [
      "Generating TS features:  64%|██████▎   | 7/11 [00:01<00:00,  5.90it/s]"
     ]
    },
    {
     "name": "stdout",
     "output_type": "stream",
     "text": [
      "[2025-07-20 18:45:09,761: INFO: ts_generator: Columns for sub_region_code 9: ['date', 'demand', 'temperature_2m', 'hour', 'day_of_week', 'month', 'is_weekend', 'is_holiday']]\n"
     ]
    },
    {
     "name": "stderr",
     "output_type": "stream",
     "text": [
      "Generating TS features:  73%|███████▎  | 8/11 [00:01<00:00,  5.92it/s]"
     ]
    },
    {
     "name": "stdout",
     "output_type": "stream",
     "text": [
      "[2025-07-20 18:45:09,932: INFO: ts_generator: Columns for sub_region_code 10: ['date', 'demand', 'temperature_2m', 'hour', 'day_of_week', 'month', 'is_weekend', 'is_holiday']]\n"
     ]
    },
    {
     "name": "stderr",
     "output_type": "stream",
     "text": [
      "Generating TS features:  82%|████████▏ | 9/11 [00:01<00:00,  6.09it/s]"
     ]
    },
    {
     "name": "stdout",
     "output_type": "stream",
     "text": [
      "[2025-07-20 18:45:10,082: INFO: ts_generator: Columns for sub_region_code 5: ['date', 'demand', 'temperature_2m', 'hour', 'day_of_week', 'month', 'is_weekend', 'is_holiday']]\n"
     ]
    },
    {
     "name": "stderr",
     "output_type": "stream",
     "text": [
      "Generating TS features:  91%|█████████ | 10/11 [00:01<00:00,  5.92it/s]"
     ]
    },
    {
     "name": "stdout",
     "output_type": "stream",
     "text": [
      "[2025-07-20 18:45:10,262: INFO: ts_generator: Columns for sub_region_code 8: ['date', 'demand', 'temperature_2m', 'hour', 'day_of_week', 'month', 'is_weekend', 'is_holiday']]\n"
     ]
    },
    {
     "name": "stderr",
     "output_type": "stream",
     "text": [
      "Generating TS features: 100%|██████████| 11/11 [00:01<00:00,  5.65it/s]"
     ]
    },
    {
     "name": "stdout",
     "output_type": "stream",
     "text": [
      "[2025-07-20 18:45:10,454: INFO: ts_generator: Features columns: ['demand_previous_672_hour', 'demand_previous_671_hour', 'demand_previous_670_hour', 'demand_previous_669_hour', 'demand_previous_668_hour', 'demand_previous_667_hour', 'demand_previous_666_hour', 'demand_previous_665_hour', 'demand_previous_664_hour', 'demand_previous_663_hour', 'demand_previous_662_hour', 'demand_previous_661_hour', 'demand_previous_660_hour', 'demand_previous_659_hour', 'demand_previous_658_hour', 'demand_previous_657_hour', 'demand_previous_656_hour', 'demand_previous_655_hour', 'demand_previous_654_hour', 'demand_previous_653_hour', 'demand_previous_652_hour', 'demand_previous_651_hour', 'demand_previous_650_hour', 'demand_previous_649_hour', 'demand_previous_648_hour', 'demand_previous_647_hour', 'demand_previous_646_hour', 'demand_previous_645_hour', 'demand_previous_644_hour', 'demand_previous_643_hour', 'demand_previous_642_hour', 'demand_previous_641_hour', 'demand_previous_640_hour', 'demand_previous_639_hour', 'demand_previous_638_hour', 'demand_previous_637_hour', 'demand_previous_636_hour', 'demand_previous_635_hour', 'demand_previous_634_hour', 'demand_previous_633_hour', 'demand_previous_632_hour', 'demand_previous_631_hour', 'demand_previous_630_hour', 'demand_previous_629_hour', 'demand_previous_628_hour', 'demand_previous_627_hour', 'demand_previous_626_hour', 'demand_previous_625_hour', 'demand_previous_624_hour', 'demand_previous_623_hour', 'demand_previous_622_hour', 'demand_previous_621_hour', 'demand_previous_620_hour', 'demand_previous_619_hour', 'demand_previous_618_hour', 'demand_previous_617_hour', 'demand_previous_616_hour', 'demand_previous_615_hour', 'demand_previous_614_hour', 'demand_previous_613_hour', 'demand_previous_612_hour', 'demand_previous_611_hour', 'demand_previous_610_hour', 'demand_previous_609_hour', 'demand_previous_608_hour', 'demand_previous_607_hour', 'demand_previous_606_hour', 'demand_previous_605_hour', 'demand_previous_604_hour', 'demand_previous_603_hour', 'demand_previous_602_hour', 'demand_previous_601_hour', 'demand_previous_600_hour', 'demand_previous_599_hour', 'demand_previous_598_hour', 'demand_previous_597_hour', 'demand_previous_596_hour', 'demand_previous_595_hour', 'demand_previous_594_hour', 'demand_previous_593_hour', 'demand_previous_592_hour', 'demand_previous_591_hour', 'demand_previous_590_hour', 'demand_previous_589_hour', 'demand_previous_588_hour', 'demand_previous_587_hour', 'demand_previous_586_hour', 'demand_previous_585_hour', 'demand_previous_584_hour', 'demand_previous_583_hour', 'demand_previous_582_hour', 'demand_previous_581_hour', 'demand_previous_580_hour', 'demand_previous_579_hour', 'demand_previous_578_hour', 'demand_previous_577_hour', 'demand_previous_576_hour', 'demand_previous_575_hour', 'demand_previous_574_hour', 'demand_previous_573_hour', 'demand_previous_572_hour', 'demand_previous_571_hour', 'demand_previous_570_hour', 'demand_previous_569_hour', 'demand_previous_568_hour', 'demand_previous_567_hour', 'demand_previous_566_hour', 'demand_previous_565_hour', 'demand_previous_564_hour', 'demand_previous_563_hour', 'demand_previous_562_hour', 'demand_previous_561_hour', 'demand_previous_560_hour', 'demand_previous_559_hour', 'demand_previous_558_hour', 'demand_previous_557_hour', 'demand_previous_556_hour', 'demand_previous_555_hour', 'demand_previous_554_hour', 'demand_previous_553_hour', 'demand_previous_552_hour', 'demand_previous_551_hour', 'demand_previous_550_hour', 'demand_previous_549_hour', 'demand_previous_548_hour', 'demand_previous_547_hour', 'demand_previous_546_hour', 'demand_previous_545_hour', 'demand_previous_544_hour', 'demand_previous_543_hour', 'demand_previous_542_hour', 'demand_previous_541_hour', 'demand_previous_540_hour', 'demand_previous_539_hour', 'demand_previous_538_hour', 'demand_previous_537_hour', 'demand_previous_536_hour', 'demand_previous_535_hour', 'demand_previous_534_hour', 'demand_previous_533_hour', 'demand_previous_532_hour', 'demand_previous_531_hour', 'demand_previous_530_hour', 'demand_previous_529_hour', 'demand_previous_528_hour', 'demand_previous_527_hour', 'demand_previous_526_hour', 'demand_previous_525_hour', 'demand_previous_524_hour', 'demand_previous_523_hour', 'demand_previous_522_hour', 'demand_previous_521_hour', 'demand_previous_520_hour', 'demand_previous_519_hour', 'demand_previous_518_hour', 'demand_previous_517_hour', 'demand_previous_516_hour', 'demand_previous_515_hour', 'demand_previous_514_hour', 'demand_previous_513_hour', 'demand_previous_512_hour', 'demand_previous_511_hour', 'demand_previous_510_hour', 'demand_previous_509_hour', 'demand_previous_508_hour', 'demand_previous_507_hour', 'demand_previous_506_hour', 'demand_previous_505_hour', 'demand_previous_504_hour', 'demand_previous_503_hour', 'demand_previous_502_hour', 'demand_previous_501_hour', 'demand_previous_500_hour', 'demand_previous_499_hour', 'demand_previous_498_hour', 'demand_previous_497_hour', 'demand_previous_496_hour', 'demand_previous_495_hour', 'demand_previous_494_hour', 'demand_previous_493_hour', 'demand_previous_492_hour', 'demand_previous_491_hour', 'demand_previous_490_hour', 'demand_previous_489_hour', 'demand_previous_488_hour', 'demand_previous_487_hour', 'demand_previous_486_hour', 'demand_previous_485_hour', 'demand_previous_484_hour', 'demand_previous_483_hour', 'demand_previous_482_hour', 'demand_previous_481_hour', 'demand_previous_480_hour', 'demand_previous_479_hour', 'demand_previous_478_hour', 'demand_previous_477_hour', 'demand_previous_476_hour', 'demand_previous_475_hour', 'demand_previous_474_hour', 'demand_previous_473_hour', 'demand_previous_472_hour', 'demand_previous_471_hour', 'demand_previous_470_hour', 'demand_previous_469_hour', 'demand_previous_468_hour', 'demand_previous_467_hour', 'demand_previous_466_hour', 'demand_previous_465_hour', 'demand_previous_464_hour', 'demand_previous_463_hour', 'demand_previous_462_hour', 'demand_previous_461_hour', 'demand_previous_460_hour', 'demand_previous_459_hour', 'demand_previous_458_hour', 'demand_previous_457_hour', 'demand_previous_456_hour', 'demand_previous_455_hour', 'demand_previous_454_hour', 'demand_previous_453_hour', 'demand_previous_452_hour', 'demand_previous_451_hour', 'demand_previous_450_hour', 'demand_previous_449_hour', 'demand_previous_448_hour', 'demand_previous_447_hour', 'demand_previous_446_hour', 'demand_previous_445_hour', 'demand_previous_444_hour', 'demand_previous_443_hour', 'demand_previous_442_hour', 'demand_previous_441_hour', 'demand_previous_440_hour', 'demand_previous_439_hour', 'demand_previous_438_hour', 'demand_previous_437_hour', 'demand_previous_436_hour', 'demand_previous_435_hour', 'demand_previous_434_hour', 'demand_previous_433_hour', 'demand_previous_432_hour', 'demand_previous_431_hour', 'demand_previous_430_hour', 'demand_previous_429_hour', 'demand_previous_428_hour', 'demand_previous_427_hour', 'demand_previous_426_hour', 'demand_previous_425_hour', 'demand_previous_424_hour', 'demand_previous_423_hour', 'demand_previous_422_hour', 'demand_previous_421_hour', 'demand_previous_420_hour', 'demand_previous_419_hour', 'demand_previous_418_hour', 'demand_previous_417_hour', 'demand_previous_416_hour', 'demand_previous_415_hour', 'demand_previous_414_hour', 'demand_previous_413_hour', 'demand_previous_412_hour', 'demand_previous_411_hour', 'demand_previous_410_hour', 'demand_previous_409_hour', 'demand_previous_408_hour', 'demand_previous_407_hour', 'demand_previous_406_hour', 'demand_previous_405_hour', 'demand_previous_404_hour', 'demand_previous_403_hour', 'demand_previous_402_hour', 'demand_previous_401_hour', 'demand_previous_400_hour', 'demand_previous_399_hour', 'demand_previous_398_hour', 'demand_previous_397_hour', 'demand_previous_396_hour', 'demand_previous_395_hour', 'demand_previous_394_hour', 'demand_previous_393_hour', 'demand_previous_392_hour', 'demand_previous_391_hour', 'demand_previous_390_hour', 'demand_previous_389_hour', 'demand_previous_388_hour', 'demand_previous_387_hour', 'demand_previous_386_hour', 'demand_previous_385_hour', 'demand_previous_384_hour', 'demand_previous_383_hour', 'demand_previous_382_hour', 'demand_previous_381_hour', 'demand_previous_380_hour', 'demand_previous_379_hour', 'demand_previous_378_hour', 'demand_previous_377_hour', 'demand_previous_376_hour', 'demand_previous_375_hour', 'demand_previous_374_hour', 'demand_previous_373_hour', 'demand_previous_372_hour', 'demand_previous_371_hour', 'demand_previous_370_hour', 'demand_previous_369_hour', 'demand_previous_368_hour', 'demand_previous_367_hour', 'demand_previous_366_hour', 'demand_previous_365_hour', 'demand_previous_364_hour', 'demand_previous_363_hour', 'demand_previous_362_hour', 'demand_previous_361_hour', 'demand_previous_360_hour', 'demand_previous_359_hour', 'demand_previous_358_hour', 'demand_previous_357_hour', 'demand_previous_356_hour', 'demand_previous_355_hour', 'demand_previous_354_hour', 'demand_previous_353_hour', 'demand_previous_352_hour', 'demand_previous_351_hour', 'demand_previous_350_hour', 'demand_previous_349_hour', 'demand_previous_348_hour', 'demand_previous_347_hour', 'demand_previous_346_hour', 'demand_previous_345_hour', 'demand_previous_344_hour', 'demand_previous_343_hour', 'demand_previous_342_hour', 'demand_previous_341_hour', 'demand_previous_340_hour', 'demand_previous_339_hour', 'demand_previous_338_hour', 'demand_previous_337_hour', 'demand_previous_336_hour', 'demand_previous_335_hour', 'demand_previous_334_hour', 'demand_previous_333_hour', 'demand_previous_332_hour', 'demand_previous_331_hour', 'demand_previous_330_hour', 'demand_previous_329_hour', 'demand_previous_328_hour', 'demand_previous_327_hour', 'demand_previous_326_hour', 'demand_previous_325_hour', 'demand_previous_324_hour', 'demand_previous_323_hour', 'demand_previous_322_hour', 'demand_previous_321_hour', 'demand_previous_320_hour', 'demand_previous_319_hour', 'demand_previous_318_hour', 'demand_previous_317_hour', 'demand_previous_316_hour', 'demand_previous_315_hour', 'demand_previous_314_hour', 'demand_previous_313_hour', 'demand_previous_312_hour', 'demand_previous_311_hour', 'demand_previous_310_hour', 'demand_previous_309_hour', 'demand_previous_308_hour', 'demand_previous_307_hour', 'demand_previous_306_hour', 'demand_previous_305_hour', 'demand_previous_304_hour', 'demand_previous_303_hour', 'demand_previous_302_hour', 'demand_previous_301_hour', 'demand_previous_300_hour', 'demand_previous_299_hour', 'demand_previous_298_hour', 'demand_previous_297_hour', 'demand_previous_296_hour', 'demand_previous_295_hour', 'demand_previous_294_hour', 'demand_previous_293_hour', 'demand_previous_292_hour', 'demand_previous_291_hour', 'demand_previous_290_hour', 'demand_previous_289_hour', 'demand_previous_288_hour', 'demand_previous_287_hour', 'demand_previous_286_hour', 'demand_previous_285_hour', 'demand_previous_284_hour', 'demand_previous_283_hour', 'demand_previous_282_hour', 'demand_previous_281_hour', 'demand_previous_280_hour', 'demand_previous_279_hour', 'demand_previous_278_hour', 'demand_previous_277_hour', 'demand_previous_276_hour', 'demand_previous_275_hour', 'demand_previous_274_hour', 'demand_previous_273_hour', 'demand_previous_272_hour', 'demand_previous_271_hour', 'demand_previous_270_hour', 'demand_previous_269_hour', 'demand_previous_268_hour', 'demand_previous_267_hour', 'demand_previous_266_hour', 'demand_previous_265_hour', 'demand_previous_264_hour', 'demand_previous_263_hour', 'demand_previous_262_hour', 'demand_previous_261_hour', 'demand_previous_260_hour', 'demand_previous_259_hour', 'demand_previous_258_hour', 'demand_previous_257_hour', 'demand_previous_256_hour', 'demand_previous_255_hour', 'demand_previous_254_hour', 'demand_previous_253_hour', 'demand_previous_252_hour', 'demand_previous_251_hour', 'demand_previous_250_hour', 'demand_previous_249_hour', 'demand_previous_248_hour', 'demand_previous_247_hour', 'demand_previous_246_hour', 'demand_previous_245_hour', 'demand_previous_244_hour', 'demand_previous_243_hour', 'demand_previous_242_hour', 'demand_previous_241_hour', 'demand_previous_240_hour', 'demand_previous_239_hour', 'demand_previous_238_hour', 'demand_previous_237_hour', 'demand_previous_236_hour', 'demand_previous_235_hour', 'demand_previous_234_hour', 'demand_previous_233_hour', 'demand_previous_232_hour', 'demand_previous_231_hour', 'demand_previous_230_hour', 'demand_previous_229_hour', 'demand_previous_228_hour', 'demand_previous_227_hour', 'demand_previous_226_hour', 'demand_previous_225_hour', 'demand_previous_224_hour', 'demand_previous_223_hour', 'demand_previous_222_hour', 'demand_previous_221_hour', 'demand_previous_220_hour', 'demand_previous_219_hour', 'demand_previous_218_hour', 'demand_previous_217_hour', 'demand_previous_216_hour', 'demand_previous_215_hour', 'demand_previous_214_hour', 'demand_previous_213_hour', 'demand_previous_212_hour', 'demand_previous_211_hour', 'demand_previous_210_hour', 'demand_previous_209_hour', 'demand_previous_208_hour', 'demand_previous_207_hour', 'demand_previous_206_hour', 'demand_previous_205_hour', 'demand_previous_204_hour', 'demand_previous_203_hour', 'demand_previous_202_hour', 'demand_previous_201_hour', 'demand_previous_200_hour', 'demand_previous_199_hour', 'demand_previous_198_hour', 'demand_previous_197_hour', 'demand_previous_196_hour', 'demand_previous_195_hour', 'demand_previous_194_hour', 'demand_previous_193_hour', 'demand_previous_192_hour', 'demand_previous_191_hour', 'demand_previous_190_hour', 'demand_previous_189_hour', 'demand_previous_188_hour', 'demand_previous_187_hour', 'demand_previous_186_hour', 'demand_previous_185_hour', 'demand_previous_184_hour', 'demand_previous_183_hour', 'demand_previous_182_hour', 'demand_previous_181_hour', 'demand_previous_180_hour', 'demand_previous_179_hour', 'demand_previous_178_hour', 'demand_previous_177_hour', 'demand_previous_176_hour', 'demand_previous_175_hour', 'demand_previous_174_hour', 'demand_previous_173_hour', 'demand_previous_172_hour', 'demand_previous_171_hour', 'demand_previous_170_hour', 'demand_previous_169_hour', 'demand_previous_168_hour', 'demand_previous_167_hour', 'demand_previous_166_hour', 'demand_previous_165_hour', 'demand_previous_164_hour', 'demand_previous_163_hour', 'demand_previous_162_hour', 'demand_previous_161_hour', 'demand_previous_160_hour', 'demand_previous_159_hour', 'demand_previous_158_hour', 'demand_previous_157_hour', 'demand_previous_156_hour', 'demand_previous_155_hour', 'demand_previous_154_hour', 'demand_previous_153_hour', 'demand_previous_152_hour', 'demand_previous_151_hour', 'demand_previous_150_hour', 'demand_previous_149_hour', 'demand_previous_148_hour', 'demand_previous_147_hour', 'demand_previous_146_hour', 'demand_previous_145_hour', 'demand_previous_144_hour', 'demand_previous_143_hour', 'demand_previous_142_hour', 'demand_previous_141_hour', 'demand_previous_140_hour', 'demand_previous_139_hour', 'demand_previous_138_hour', 'demand_previous_137_hour', 'demand_previous_136_hour', 'demand_previous_135_hour', 'demand_previous_134_hour', 'demand_previous_133_hour', 'demand_previous_132_hour', 'demand_previous_131_hour', 'demand_previous_130_hour', 'demand_previous_129_hour', 'demand_previous_128_hour', 'demand_previous_127_hour', 'demand_previous_126_hour', 'demand_previous_125_hour', 'demand_previous_124_hour', 'demand_previous_123_hour', 'demand_previous_122_hour', 'demand_previous_121_hour', 'demand_previous_120_hour', 'demand_previous_119_hour', 'demand_previous_118_hour', 'demand_previous_117_hour', 'demand_previous_116_hour', 'demand_previous_115_hour', 'demand_previous_114_hour', 'demand_previous_113_hour', 'demand_previous_112_hour', 'demand_previous_111_hour', 'demand_previous_110_hour', 'demand_previous_109_hour', 'demand_previous_108_hour', 'demand_previous_107_hour', 'demand_previous_106_hour', 'demand_previous_105_hour', 'demand_previous_104_hour', 'demand_previous_103_hour', 'demand_previous_102_hour', 'demand_previous_101_hour', 'demand_previous_100_hour', 'demand_previous_99_hour', 'demand_previous_98_hour', 'demand_previous_97_hour', 'demand_previous_96_hour', 'demand_previous_95_hour', 'demand_previous_94_hour', 'demand_previous_93_hour', 'demand_previous_92_hour', 'demand_previous_91_hour', 'demand_previous_90_hour', 'demand_previous_89_hour', 'demand_previous_88_hour', 'demand_previous_87_hour', 'demand_previous_86_hour', 'demand_previous_85_hour', 'demand_previous_84_hour', 'demand_previous_83_hour', 'demand_previous_82_hour', 'demand_previous_81_hour', 'demand_previous_80_hour', 'demand_previous_79_hour', 'demand_previous_78_hour', 'demand_previous_77_hour', 'demand_previous_76_hour', 'demand_previous_75_hour', 'demand_previous_74_hour', 'demand_previous_73_hour', 'demand_previous_72_hour', 'demand_previous_71_hour', 'demand_previous_70_hour', 'demand_previous_69_hour', 'demand_previous_68_hour', 'demand_previous_67_hour', 'demand_previous_66_hour', 'demand_previous_65_hour', 'demand_previous_64_hour', 'demand_previous_63_hour', 'demand_previous_62_hour', 'demand_previous_61_hour', 'demand_previous_60_hour', 'demand_previous_59_hour', 'demand_previous_58_hour', 'demand_previous_57_hour', 'demand_previous_56_hour', 'demand_previous_55_hour', 'demand_previous_54_hour', 'demand_previous_53_hour', 'demand_previous_52_hour', 'demand_previous_51_hour', 'demand_previous_50_hour', 'demand_previous_49_hour', 'demand_previous_48_hour', 'demand_previous_47_hour', 'demand_previous_46_hour', 'demand_previous_45_hour', 'demand_previous_44_hour', 'demand_previous_43_hour', 'demand_previous_42_hour', 'demand_previous_41_hour', 'demand_previous_40_hour', 'demand_previous_39_hour', 'demand_previous_38_hour', 'demand_previous_37_hour', 'demand_previous_36_hour', 'demand_previous_35_hour', 'demand_previous_34_hour', 'demand_previous_33_hour', 'demand_previous_32_hour', 'demand_previous_31_hour', 'demand_previous_30_hour', 'demand_previous_29_hour', 'demand_previous_28_hour', 'demand_previous_27_hour', 'demand_previous_26_hour', 'demand_previous_25_hour', 'demand_previous_24_hour', 'demand_previous_23_hour', 'demand_previous_22_hour', 'demand_previous_21_hour', 'demand_previous_20_hour', 'demand_previous_19_hour', 'demand_previous_18_hour', 'demand_previous_17_hour', 'demand_previous_16_hour', 'demand_previous_15_hour', 'demand_previous_14_hour', 'demand_previous_13_hour', 'demand_previous_12_hour', 'demand_previous_11_hour', 'demand_previous_10_hour', 'demand_previous_9_hour', 'demand_previous_8_hour', 'demand_previous_7_hour', 'demand_previous_6_hour', 'demand_previous_5_hour', 'demand_previous_4_hour', 'demand_previous_3_hour', 'demand_previous_2_hour', 'demand_previous_1_hour', 'temperature_2m', 'hour', 'day_of_week', 'month', 'is_weekend', 'is_holiday']]\n",
      "[2025-07-20 18:45:10,459: INFO: ts_generator: Features dtypes:\n",
      "demand_previous_672_hour    float64\n",
      "demand_previous_671_hour    float64\n",
      "demand_previous_670_hour    float64\n",
      "demand_previous_669_hour    float64\n",
      "demand_previous_668_hour    float64\n",
      "                             ...   \n",
      "hour                          int64\n",
      "day_of_week                   int64\n",
      "month                         int64\n",
      "is_weekend                    int64\n",
      "is_holiday                    int64\n",
      "Length: 678, dtype: object]\n",
      "[2025-07-20 18:45:10,475: INFO: 2453969390: Running Optuna HPO for XGBoost]\n"
     ]
    },
    {
     "name": "stderr",
     "output_type": "stream",
     "text": [
      "\n",
      "[I 2025-07-20 18:45:10,477] A new study created in memory with name: no-name-bcb62c8f-9bcb-4caa-a00e-8e05f5a71053\n",
      "[I 2025-07-20 18:45:52,355] Trial 0 finished with value: 1920.5953278229097 and parameters: {'n_estimators': 85, 'max_depth': 10, 'learning_rate': 0.22004247289851087}. Best is trial 0 with value: 1920.5953278229097.\n"
     ]
    },
    {
     "name": "stdout",
     "output_type": "stream",
     "text": [
      "[2025-07-20 18:48:18,471: INFO: 2453969390: Running Optuna HPO for LightGBM]\n"
     ]
    },
    {
     "name": "stderr",
     "output_type": "stream",
     "text": [
      "[I 2025-07-20 18:48:18,495] A new study created in memory with name: no-name-f67939cd-8c4f-4e62-b22e-09108079b80e\n"
     ]
    },
    {
     "name": "stdout",
     "output_type": "stream",
     "text": [
      "[LightGBM] [Info] Auto-choosing col-wise multi-threading, the overhead of testing was 0.012006 seconds.\n",
      "You can set `force_col_wise=true` to remove the overhead.\n",
      "[LightGBM] [Info] Total Bins 171881\n",
      "[LightGBM] [Info] Number of data points in the train set: 2270, number of used features: 678\n",
      "[LightGBM] [Info] Start training from score 1657.170044\n"
     ]
    },
    {
     "name": "stderr",
     "output_type": "stream",
     "text": [
      "[I 2025-07-20 18:48:45,427] Trial 0 finished with value: 1303.827559258936 and parameters: {'num_leaves': 69, 'learning_rate': 0.04171679963012042, 'n_estimators': 256}. Best is trial 0 with value: 1303.827559258936.\n"
     ]
    },
    {
     "name": "stdout",
     "output_type": "stream",
     "text": [
      "[LightGBM] [Info] Auto-choosing col-wise multi-threading, the overhead of testing was 0.017719 seconds.\n",
      "You can set `force_col_wise=true` to remove the overhead.\n",
      "[LightGBM] [Info] Total Bins 171881\n",
      "[LightGBM] [Info] Number of data points in the train set: 2270, number of used features: 678\n",
      "[LightGBM] [Info] Start training from score 1745.764317\n",
      "[LightGBM] [Info] Auto-choosing col-wise multi-threading, the overhead of testing was 0.013619 seconds.\n",
      "You can set `force_col_wise=true` to remove the overhead.\n",
      "[LightGBM] [Info] Total Bins 171881\n",
      "[LightGBM] [Info] Number of data points in the train set: 2270, number of used features: 678\n",
      "[LightGBM] [Info] Start training from score 1553.943172\n",
      "[LightGBM] [Info] Auto-choosing col-wise multi-threading, the overhead of testing was 0.014863 seconds.\n",
      "You can set `force_col_wise=true` to remove the overhead.\n",
      "[LightGBM] [Info] Total Bins 171881\n",
      "[LightGBM] [Info] Number of data points in the train set: 2270, number of used features: 678\n",
      "[LightGBM] [Info] Start training from score 1661.046696\n",
      "[LightGBM] [Info] Auto-choosing col-wise multi-threading, the overhead of testing was 0.016557 seconds.\n",
      "You can set `force_col_wise=true` to remove the overhead.\n",
      "[LightGBM] [Info] Total Bins 171881\n",
      "[LightGBM] [Info] Number of data points in the train set: 2271, number of used features: 678\n",
      "[LightGBM] [Info] Start training from score 1075.589608\n",
      "[LightGBM] [Info] Auto-choosing col-wise multi-threading, the overhead of testing was 0.017824 seconds.\n",
      "You can set `force_col_wise=true` to remove the overhead.\n",
      "[LightGBM] [Info] Total Bins 171881\n",
      "[LightGBM] [Info] Number of data points in the train set: 2271, number of used features: 678\n",
      "[LightGBM] [Info] Start training from score 1657.206517\n",
      "[LightGBM] [Info] Auto-choosing col-wise multi-threading, the overhead of testing was 0.023561 seconds.\n",
      "You can set `force_col_wise=true` to remove the overhead.\n",
      "[LightGBM] [Info] Total Bins 171881\n",
      "[LightGBM] [Info] Number of data points in the train set: 2838, number of used features: 678\n",
      "[LightGBM] [Info] Start training from score 1538.679704\n",
      "[2025-07-20 18:50:40,145: INFO: helpers: created directory at: artifacts\\trainer]\n",
      "[2025-07-20 18:50:40,212: INFO: helpers: binary file saved at: artifacts\\trainer\\model.joblib]\n"
     ]
    },
    {
     "data": {
      "application/vnd.jupyter.widget-view+json": {
       "model_id": "864d22c717084b19824cc7cef4e3150c",
       "version_major": 2,
       "version_minor": 0
      },
      "text/plain": [
       "  0%|          | 0/6 [00:00<?, ?it/s]"
      ]
     },
     "metadata": {},
     "output_type": "display_data"
    },
    {
     "data": {
      "application/vnd.jupyter.widget-view+json": {
       "model_id": "cd6b8dd9094b472b9b95e28da21bef8a",
       "version_major": 2,
       "version_minor": 0
      },
      "text/plain": [
       "Uploading f:\\WattPredictor\\artifacts/trainer/model.joblib: 0.000%|          | 0/1590937 elapsed<00:00 remainin…"
      ]
     },
     "metadata": {},
     "output_type": "display_data"
    },
    {
     "data": {
      "application/vnd.jupyter.widget-view+json": {
       "model_id": "ce87734a1c6d4522b4f730486f2570eb",
       "version_major": 2,
       "version_minor": 0
      },
      "text/plain": [
       "Uploading f:\\WattPredictor\\input_example.json: 0.000%|          | 0/4744 elapsed<00:00 remaining<?"
      ]
     },
     "metadata": {},
     "output_type": "display_data"
    },
    {
     "data": {
      "application/vnd.jupyter.widget-view+json": {
       "model_id": "a71f5630cf904be089d43e9025ead108",
       "version_major": 2,
       "version_minor": 0
      },
      "text/plain": [
       "Uploading f:\\WattPredictor\\model_schema.json: 0.000%|          | 0/61796 elapsed<00:00 remaining<?"
      ]
     },
     "metadata": {},
     "output_type": "display_data"
    },
    {
     "name": "stdout",
     "output_type": "stream",
     "text": [
      "Model created, explore it at https://c.app.hopsworks.ai:443/p/1240214/models/wattpredictor_lightgbm/2\n",
      "[2025-07-20 18:51:00,427: INFO: 2453969390: Best model registered: LightGBM with RMSE 497.51533190325415, params {'num_leaves': 69, 'learning_rate': 0.04171679963012042, 'n_estimators': 256}]\n"
     ]
    }
   ],
   "source": [
    "try:    \n",
    "    config = ModelConfigurationManager()\n",
    "    model_trainer_config = config.get_model_trainer_config()\n",
    "    model_trainer = Trainer(config=model_trainer_config)\n",
    "    model_trainer.train()\n",
    "\n",
    "except Exception as e:\n",
    "    raise CustomException(e, sys) from e"
   ]
  },
  {
   "cell_type": "code",
   "execution_count": null,
   "id": "2af58297",
   "metadata": {},
   "outputs": [],
   "source": []
  }
 ],
 "metadata": {
  "kernelspec": {
   "display_name": "WattPredictor",
   "language": "python",
   "name": "python3"
  },
  "language_info": {
   "codemirror_mode": {
    "name": "ipython",
    "version": 3
   },
   "file_extension": ".py",
   "mimetype": "text/x-python",
   "name": "python",
   "nbconvert_exporter": "python",
   "pygments_lexer": "ipython3",
   "version": "3.10.18"
  }
 },
 "nbformat": 4,
 "nbformat_minor": 5
}
