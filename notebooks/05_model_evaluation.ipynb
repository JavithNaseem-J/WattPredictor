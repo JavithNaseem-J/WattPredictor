{
 "cells": [
  {
   "cell_type": "code",
   "execution_count": 1,
   "metadata": {},
   "outputs": [],
   "source": [
    "import os\n",
    "import sys\n",
    "os.chdir('../')\n",
    "sys.path.append(os.path.join(os.getcwd(), \"src\"))"
   ]
  },
  {
   "cell_type": "code",
   "execution_count": 2,
   "metadata": {},
   "outputs": [],
   "source": [
    "import os\n",
    "import sys\n",
    "import json\n",
    "import joblib\n",
    "import mlflow\n",
    "import pandas as pd\n",
    "import matplotlib.pyplot as plt\n",
    "import numpy as np\n",
    "from pathlib import Path\n",
    "from WattPredictor.entity.config_entity import EvaluationConfig\n",
    "from WattPredictor.config.model_config import ModelConfigurationManager\n",
    "from WattPredictor.utils.feature import feature_store_instance\n",
    "from WattPredictor.utils.ts_generator import features_and_target\n",
    "from sklearn.metrics import mean_squared_error, mean_absolute_error,root_mean_squared_error, r2_score\n",
    "from WattPredictor.utils.helpers import create_directories, save_json\n",
    "from WattPredictor.utils.exception import CustomException\n",
    "from WattPredictor.utils.logging import logger\n",
    "\n",
    "class Evaluation:\n",
    "    def __init__(self, config:EvaluationConfig):\n",
    "        self.config = config\n",
    "        self.feature_store = feature_store_instance()\n",
    "\n",
    "    def evaluate(self):\n",
    "        try:\n",
    "            df, _ = self.feature_store.get_training_data(\"elec_wx_features_view\")\n",
    "            df = df[['date', 'demand', 'sub_region_code', 'temperature_2m']]\n",
    "            df.sort_values(\"date\", inplace=True)\n",
    "            \n",
    "            train_df, test_df = df[df['date'] < self.config.cutoff_date], df[df['date'] >= self.config.cutoff_date]\n",
    "\n",
    "            test_x, test_y = features_and_target(test_df, input_seq_len=self.config.input_seq_len, step_size=self.config.step_size)\n",
    "            test_x.drop(columns=[\"date\"], errors=\"ignore\", inplace=True)\n",
    "\n",
    "            model_registry = self.feature_store.project.get_model_registry()\n",
    "            model_name = \"wattpredictor_lightgbm\"\n",
    "            \n",
    "            models = model_registry.get_models(model_name)\n",
    "            if not models:\n",
    "                raise CustomException(f\"No models found with name '{model_name}'\", sys)\n",
    "            \n",
    "            latest_model = models[0] \n",
    "            \n",
    "            \n",
    "            model_dir = latest_model.download()\n",
    "            model_path = os.path.join(model_dir, \"model.joblib\")\n",
    "            model_instance = joblib.load(model_path)\n",
    "\n",
    "            preds = model_instance.predict(test_x)\n",
    "\n",
    "            mse = mean_squared_error(test_y, preds)\n",
    "            mae = mean_absolute_error(test_y, preds)\n",
    "            rmse = np.sqrt(mse)\n",
    "            r2 = r2_score(test_y, preds)\n",
    "            mape = np.mean(np.abs((test_y - preds) / test_y)) * 100 if np.any(test_y != 0) else np.inf\n",
    "            adjusted_r2 = 1 - (1 - r2) * (len(test_y) - 1) / (len(test_y) - test_x.shape[1] - 1)\n",
    "\n",
    "            metrics = {\n",
    "                \"mse\": mse,\n",
    "                \"mae\": mae,\n",
    "                \"rmse\": rmse,\n",
    "                \"mape\": mape,\n",
    "                \"r2_score\": r2,\n",
    "                \"adjusted_r2\": adjusted_r2\n",
    "            }\n",
    "\n",
    "            create_directories([os.path.dirname(self.config.metrics_path)])\n",
    "            save_json(self.config.metrics_path, metrics)\n",
    "            logger.info(f\"Saved evaluation metrics at {self.config.metrics_path}\")\n",
    "\n",
    "            fig, ax = plt.subplots(figsize=(12, 6))\n",
    "            ax.plot(test_y[:100], label=\"Actual\", color=\"blue\")\n",
    "            ax.plot(preds[:100], label=\"Predicted\", color=\"red\")\n",
    "            ax.set_title(\"Predicted vs Actual (First 100 Points)\")\n",
    "            ax.set_xlabel(\"Time Step\")\n",
    "            ax.set_ylabel(\"Electricity Demand\")\n",
    "            ax.legend()\n",
    "\n",
    "            create_directories([os.path.dirname(self.config.img_path)])\n",
    "            fig.savefig(self.config.img_path)\n",
    "            plt.close()\n",
    "            logger.info(f\"Saved prediction plot at {self.config.img_path}\")\n",
    "\n",
    "            self.feature_store.upload_file_safely(self.config.metrics_path, \"eval/metrics.json\")\n",
    "            self.feature_store.upload_file_safely(self.config.img_path, \"eval/pred_vs_actual.png\")\n",
    "\n",
    "            logger.info(\"Evaluation results uploaded to Hopsworks dataset storage\")\n",
    "\n",
    "            return metrics\n",
    "\n",
    "        except Exception as e:\n",
    "            raise CustomException(\"Model evaluation failed\", e)"
   ]
  },
  {
   "cell_type": "code",
   "execution_count": 3,
   "metadata": {},
   "outputs": [
    {
     "name": "stdout",
     "output_type": "stream",
     "text": [
      "[2025-07-17 16:49:07,325: INFO: helpers: yaml file: config_file\\config.yaml loaded successfully]\n",
      "[2025-07-17 16:49:07,332: INFO: helpers: yaml file: config_file\\params.yaml loaded successfully]\n",
      "[2025-07-17 16:49:07,335: INFO: helpers: yaml file: config_file\\schema.yaml loaded successfully]\n",
      "[2025-07-17 16:49:07,338: INFO: helpers: created directory at: artifacts]\n",
      "[2025-07-17 16:49:07,340: INFO: helpers: created directory at: artifacts/model_evaluation]\n",
      "[2025-07-17 16:49:07,345: INFO: helpers: yaml file: config_file\\config.yaml loaded successfully]\n",
      "[2025-07-17 16:49:07,349: INFO: helpers: yaml file: config_file\\params.yaml loaded successfully]\n",
      "[2025-07-17 16:49:07,352: INFO: helpers: yaml file: config_file\\schema.yaml loaded successfully]\n",
      "[2025-07-17 16:49:07,357: INFO: external: Initializing external client]\n",
      "[2025-07-17 16:49:07,359: INFO: external: Base URL: https://c.app.hopsworks.ai:443]\n",
      "[2025-07-17 16:49:10,183: INFO: python: Python Engine initialized.]\n",
      "\n",
      "Logged in to project, explore it here https://c.app.hopsworks.ai:443/p/1240214\n",
      "[2025-07-17 16:49:12,858: INFO: feature_store: Connected to Hopsworks Feature Store: WattPredictor]\n",
      "Finished: Reading data from Hopsworks, using Hopsworks Feature Query Service (3.36s) \n",
      "[2025-07-17 16:49:23,526: WARNING: warnings: VersionWarning: Incremented version to `9`.\n",
      "]\n",
      "[2025-07-17 16:49:23,527: INFO: feature_store: Retrieved training data from Feature View 'elec_wx_features_view'.]\n"
     ]
    },
    {
     "name": "stderr",
     "output_type": "stream",
     "text": [
      "Generating TS features: 100%|██████████| 11/11 [00:00<00:00, 22.86it/s]\n"
     ]
    },
    {
     "data": {
      "application/vnd.jupyter.widget-view+json": {
       "model_id": "ba30d10c69944264ae4dd0a0ab027da5",
       "version_major": 2,
       "version_minor": 0
      },
      "text/plain": [
       "Downloading: 0.000%|          | 0/2154054 elapsed<00:00 remaining<?"
      ]
     },
     "metadata": {},
     "output_type": "display_data"
    },
    {
     "name": "stdout",
     "output_type": "stream",
     "text": [
      "[2025-07-17 16:49:32,510: INFO: helpers: created directory at: artifacts\\model_evaluation]\n",
      "[2025-07-17 16:49:32,511: INFO: helpers: json file saved at: artifacts\\model_evaluation\\metrics.json]\n",
      "[2025-07-17 16:49:32,512: INFO: 29897945: Saved evaluation metrics at artifacts\\model_evaluation\\metrics.json]\n",
      "[2025-07-17 16:49:32,529: WARNING: warnings: DeprecationWarning: backend2gui is deprecated since IPython 8.24, backends are managed in matplotlib and can be externally registered.\n",
      "]\n",
      "[2025-07-17 16:49:32,560: INFO: helpers: created directory at: artifacts\\model_evaluation]\n",
      "[2025-07-17 16:49:32,685: INFO: 29897945: Saved prediction plot at artifacts\\model_evaluation\\pred_vs_actual.png]\n"
     ]
    },
    {
     "data": {
      "application/vnd.jupyter.widget-view+json": {
       "model_id": "cef05574cb98457e92043346fc24de06",
       "version_major": 2,
       "version_minor": 0
      },
      "text/plain": [
       "Uploading f:\\WattPredictor\\artifacts\\model_evaluation\\metrics.json: 0.000%|          | 0/206 elapsed<00:00 rem…"
      ]
     },
     "metadata": {},
     "output_type": "display_data"
    },
    {
     "name": "stdout",
     "output_type": "stream",
     "text": [
      "[2025-07-17 16:49:35,898: INFO: feature_store: Uploaded file to Feature Store: eval/metrics.json]\n"
     ]
    },
    {
     "data": {
      "application/vnd.jupyter.widget-view+json": {
       "model_id": "9e5e14d90c8d4452b6176143b81f723e",
       "version_major": 2,
       "version_minor": 0
      },
      "text/plain": [
       "Uploading f:\\WattPredictor\\artifacts\\model_evaluation\\pred_vs_actual.png: 0.000%|          | 0/98053 elapsed<0…"
      ]
     },
     "metadata": {},
     "output_type": "display_data"
    },
    {
     "name": "stdout",
     "output_type": "stream",
     "text": [
      "[2025-07-17 16:49:39,744: INFO: feature_store: Uploaded file to Feature Store: eval/pred_vs_actual.png]\n",
      "[2025-07-17 16:49:39,746: INFO: 29897945: Evaluation results uploaded to Hopsworks dataset storage]\n"
     ]
    }
   ],
   "source": [
    "try:\n",
    "    config = ModelConfigurationManager()\n",
    "    model_evaluation_config = config.get_model_evaluation_config()\n",
    "    model_evaluation = Evaluation(config=model_evaluation_config)\n",
    "    model_evaluation.evaluate()\n",
    "except Exception as e:\n",
    "    raise CustomException(str(e), sys)"
   ]
  }
 ],
 "metadata": {
  "kernelspec": {
   "display_name": "WattPredictor",
   "language": "python",
   "name": "python3"
  },
  "language_info": {
   "codemirror_mode": {
    "name": "ipython",
    "version": 3
   },
   "file_extension": ".py",
   "mimetype": "text/x-python",
   "name": "python",
   "nbconvert_exporter": "python",
   "pygments_lexer": "ipython3",
   "version": "3.10.18"
  }
 },
 "nbformat": 4,
 "nbformat_minor": 2
}
