{
 "cells": [
  {
   "cell_type": "code",
   "execution_count": 1,
   "metadata": {},
   "outputs": [],
   "source": [
    "import os\n",
    "import sys\n",
    "os.chdir('../')\n",
    "sys.path.append(os.path.join(os.getcwd(), \"src\"))"
   ]
  },
  {
   "cell_type": "code",
   "execution_count": 2,
   "metadata": {},
   "outputs": [],
   "source": [
    "import os\n",
    "import sys\n",
    "import json\n",
    "import joblib\n",
    "import pandas as pd\n",
    "import matplotlib.pyplot as plt\n",
    "from datetime import datetime, timedelta\n",
    "import numpy as np\n",
    "from pathlib import Path\n",
    "from WattPredictor.entity.config_entity import EvaluationConfig\n",
    "from WattPredictor.config.model_config import ModelConfigurationManager\n",
    "from WattPredictor.utils.feature import feature_store_instance\n",
    "from WattPredictor.utils.ts_generator import features_and_target, average_demand_last_4_weeks\n",
    "from sklearn.metrics import mean_squared_error, mean_absolute_error, mean_absolute_percentage_error, root_mean_squared_error, r2_score\n",
    "from WattPredictor.utils.helpers import create_directories, save_json\n",
    "from WattPredictor.utils.exception import CustomException\n",
    "from WattPredictor.utils.logging import logger\n",
    "\n",
    "class Evaluation:\n",
    "    def __init__(self, config: EvaluationConfig):\n",
    "        self.config = config\n",
    "        self.feature_store = feature_store_instance()\n",
    "\n",
    "    def evaluate(self):\n",
    "        try:\n",
    "            df, _ = self.feature_store.get_training_data(\"elec_wx_features_view\")\n",
    "            df = df[['date', 'demand', 'sub_region_code', 'temperature_2m', \n",
    "                     'hour', 'day_of_week', 'month', 'is_weekend', 'is_holiday']]\n",
    "            df.sort_values(\"date\", inplace=True)\n",
    "\n",
    "            if df.empty:\n",
    "                raise CustomException(\"Loaded DataFrame is empty\", sys)\n",
    "\n",
    "            cutoff_date = (datetime.now() - timedelta(days=90)).strftime(\"%Y-%m-%d\")\n",
    "            train_df, test_df = df[df['date'] < cutoff_date], df[df['date'] >= cutoff_date]\n",
    "\n",
    "\n",
    "            logger.info(f\"train_df shape: {train_df.shape}, date range: {train_df['date'].min()} to {train_df['date'].max()}\")\n",
    "            logger.info(f\"test_df shape: {test_df.shape}, date range: {test_df['date'].min()} to {test_df['date'].max()}\")\n",
    "\n",
    "            if test_df.empty:\n",
    "                raise CustomException(\"Test DataFrame is empty after applying cutoff_date\", sys)\n",
    "\n",
    "            test_x, test_y = features_and_target(test_df, input_seq_len=self.config.input_seq_len, step_size=self.config.step_size)\n",
    "            test_x.drop(columns=[\"date\"], errors=\"ignore\", inplace=True)\n",
    "\n",
    "            # Validate dtypes\n",
    "            non_numeric_cols = test_x.select_dtypes(exclude=['int64', 'float64', 'bool']).columns\n",
    "            if not non_numeric_cols.empty:\n",
    "                raise CustomException(f\"Non-numeric columns found in test_x: {non_numeric_cols}\", sys)\n",
    "\n",
    "            # Validate expected features\n",
    "            expected_features = [f'demand_previous_{i+1}_hour' for i in reversed(range(self.config.input_seq_len))] + \\\n",
    "                                ['temperature_2m', 'hour', 'day_of_week', 'month', 'is_weekend', 'is_holiday']\n",
    "            missing_features = [col for col in expected_features if col not in test_x.columns]\n",
    "            if missing_features:\n",
    "                logger.warning(f\"Missing expected features in test_x: {missing_features}. Proceeding with available features.\")\n",
    "\n",
    "            model_registry = self.feature_store.project.get_model_registry()\n",
    "            model_name = \"wattpredictor_xgboost\"\n",
    "            models = model_registry.get_models(model_name)\n",
    "            if not models:\n",
    "                model_name = \"wattpredictor_lightgbm\"\n",
    "                models = model_registry.get_models(model_name)\n",
    "                if not models:\n",
    "                    raise CustomException(f\"No models found with names 'wattpredictor_xgboost' or 'wattpredictor_lightgbm'\", sys)\n",
    "            \n",
    "            latest_model = max(models, key=lambda m: m.version)\n",
    "            logger.info(f\"Loading model: {model_name}, version: {latest_model.version}\")\n",
    "\n",
    "            model_dir = latest_model.download()\n",
    "            model_path = os.path.join(model_dir, \"model.joblib\")\n",
    "            pipeline = joblib.load(model_path)\n",
    "\n",
    "            # Preprocess test_x for prediction\n",
    "            test_x_transformed = test_x.copy()\n",
    "            test_x_transformed = average_demand_last_4_weeks(test_x_transformed)\n",
    "\n",
    "            preds = pipeline.predict(test_x_transformed)\n",
    "\n",
    "            mse = mean_squared_error(test_y, preds)\n",
    "            mae = mean_absolute_error(test_y, preds)\n",
    "            mape = mean_absolute_percentage_error(test_y, preds) * 100\n",
    "            rmse = root_mean_squared_error(test_y, preds)\n",
    "            r2 = r2_score(test_y, preds)\n",
    "            adjusted_r2 = 1 - (1 - r2) * (len(test_y) - 1) / (len(test_y) - test_x_transformed.shape[1] - 1)\n",
    "\n",
    "            metrics = {\n",
    "                \"mse\": mse,\n",
    "                \"mae\": mae,\n",
    "                \"mape\": mape,\n",
    "                \"rmse\": rmse,\n",
    "                \"r2_score\": r2,\n",
    "                \"adjusted_r2\": adjusted_r2\n",
    "            }\n",
    "\n",
    "            create_directories([os.path.dirname(self.config.metrics_path)])\n",
    "            save_json(self.config.metrics_path, metrics)\n",
    "            logger.info(f\"Saved evaluation metrics at {self.config.metrics_path}\")\n",
    "\n",
    "            fig, ax = plt.subplots(figsize=(12, 6))\n",
    "            ax.plot(test_y[:100], label=\"Actual\", color=\"blue\")\n",
    "            ax.plot(preds[:100], label=\"Predicted\", color=\"red\")\n",
    "            ax.set_title(\"Predicted vs Actual (First 100 Points)\")\n",
    "            ax.set_xlabel(\"Time Step\")\n",
    "            ax.set_ylabel(\"Electricity Demand\")\n",
    "            ax.legend()\n",
    "\n",
    "            create_directories([os.path.dirname(self.config.img_path)])\n",
    "            fig.savefig(self.config.img_path)\n",
    "            plt.close()\n",
    "            logger.info(f\"Saved prediction plot at {self.config.img_path}\")\n",
    "\n",
    "            self.feature_store.upload_file_safely(self.config.metrics_path, \"eval/metrics.json\")\n",
    "            self.feature_store.upload_file_safely(self.config.img_path, \"eval/pred_vs_actual.png\")\n",
    "\n",
    "            logger.info(\"Evaluation results uploaded to Hopsworks dataset storage\")\n",
    "\n",
    "            return metrics\n",
    "\n",
    "        except Exception as e:\n",
    "            raise CustomException(f\"Model evaluation failed: {e}\", sys)"
   ]
  },
  {
   "cell_type": "code",
   "execution_count": 3,
   "metadata": {},
   "outputs": [
    {
     "name": "stdout",
     "output_type": "stream",
     "text": [
      "[2025-07-20 18:57:31,481: INFO: helpers: yaml file: config_file\\config.yaml loaded successfully]\n",
      "[2025-07-20 18:57:31,486: INFO: helpers: yaml file: config_file\\params.yaml loaded successfully]\n",
      "[2025-07-20 18:57:31,490: INFO: helpers: yaml file: config_file\\schema.yaml loaded successfully]\n",
      "[2025-07-20 18:57:31,492: INFO: helpers: created directory at: artifacts]\n",
      "[2025-07-20 18:57:31,493: INFO: helpers: created directory at: artifacts/evaluation]\n",
      "[2025-07-20 18:57:31,501: INFO: helpers: yaml file: config_file\\config.yaml loaded successfully]\n",
      "[2025-07-20 18:57:31,504: INFO: external: Initializing external client]\n",
      "[2025-07-20 18:57:31,505: INFO: external: Base URL: https://c.app.hopsworks.ai:443]\n",
      "[2025-07-20 18:57:34,527: INFO: python: Python Engine initialized.]\n",
      "\n",
      "Logged in to project, explore it here https://c.app.hopsworks.ai:443/p/1240214\n",
      "[2025-07-20 18:57:37,391: INFO: feature_store: Connected to Hopsworks Feature Store: WattPredictor]\n",
      "Finished: Reading data from Hopsworks, using Hopsworks Feature Query Service (4.15s) \n",
      "[2025-07-20 18:57:50,087: WARNING: warnings: VersionWarning: Incremented version to `5`.\n",
      "]\n",
      "[2025-07-20 18:57:50,088: INFO: feature_store: Retrieved training data from Feature View 'elec_wx_features_view'.]\n",
      "[2025-07-20 18:57:50,256: INFO: 2497270355: train_df shape: (72512, 9), date range: 2024-07-20 04:00:00+00:00 to 2025-04-20 23:00:00+00:00]\n",
      "[2025-07-20 18:57:50,264: INFO: 2497270355: test_df shape: (23287, 9), date range: 2025-04-21 00:00:00+00:00 to 2025-07-19 04:00:00+00:00]\n"
     ]
    },
    {
     "name": "stderr",
     "output_type": "stream",
     "text": [
      "Generating TS features:   0%|          | 0/11 [00:00<?, ?it/s]"
     ]
    },
    {
     "name": "stdout",
     "output_type": "stream",
     "text": [
      "[2025-07-20 18:57:50,274: INFO: ts_generator: Columns for sub_region_code 9: ['date', 'demand', 'temperature_2m', 'hour', 'day_of_week', 'month', 'is_weekend', 'is_holiday']]\n",
      "[2025-07-20 18:57:50,319: INFO: ts_generator: Columns for sub_region_code 5: ['date', 'demand', 'temperature_2m', 'hour', 'day_of_week', 'month', 'is_weekend', 'is_holiday']]\n",
      "[2025-07-20 18:57:50,360: INFO: ts_generator: Columns for sub_region_code 4: ['date', 'demand', 'temperature_2m', 'hour', 'day_of_week', 'month', 'is_weekend', 'is_holiday']]\n"
     ]
    },
    {
     "name": "stderr",
     "output_type": "stream",
     "text": [
      "Generating TS features:  27%|██▋       | 3/11 [00:00<00:00, 22.77it/s]"
     ]
    },
    {
     "name": "stdout",
     "output_type": "stream",
     "text": [
      "[2025-07-20 18:57:50,405: INFO: ts_generator: Columns for sub_region_code 8: ['date', 'demand', 'temperature_2m', 'hour', 'day_of_week', 'month', 'is_weekend', 'is_holiday']]\n",
      "[2025-07-20 18:57:50,449: INFO: ts_generator: Columns for sub_region_code 6: ['date', 'demand', 'temperature_2m', 'hour', 'day_of_week', 'month', 'is_weekend', 'is_holiday']]\n",
      "[2025-07-20 18:57:50,493: INFO: ts_generator: Columns for sub_region_code 10: ['date', 'demand', 'temperature_2m', 'hour', 'day_of_week', 'month', 'is_weekend', 'is_holiday']]\n"
     ]
    },
    {
     "name": "stderr",
     "output_type": "stream",
     "text": [
      "Generating TS features:  55%|█████▍    | 6/11 [00:00<00:00, 22.93it/s]"
     ]
    },
    {
     "name": "stdout",
     "output_type": "stream",
     "text": [
      "[2025-07-20 18:57:50,535: INFO: ts_generator: Columns for sub_region_code 2: ['date', 'demand', 'temperature_2m', 'hour', 'day_of_week', 'month', 'is_weekend', 'is_holiday']]\n",
      "[2025-07-20 18:57:50,578: INFO: ts_generator: Columns for sub_region_code 3: ['date', 'demand', 'temperature_2m', 'hour', 'day_of_week', 'month', 'is_weekend', 'is_holiday']]\n",
      "[2025-07-20 18:57:50,623: INFO: ts_generator: Columns for sub_region_code 1: ['date', 'demand', 'temperature_2m', 'hour', 'day_of_week', 'month', 'is_weekend', 'is_holiday']]\n"
     ]
    },
    {
     "name": "stderr",
     "output_type": "stream",
     "text": [
      "Generating TS features:  82%|████████▏ | 9/11 [00:00<00:00, 22.83it/s]"
     ]
    },
    {
     "name": "stdout",
     "output_type": "stream",
     "text": [
      "[2025-07-20 18:57:50,667: INFO: ts_generator: Columns for sub_region_code 7: ['date', 'demand', 'temperature_2m', 'hour', 'day_of_week', 'month', 'is_weekend', 'is_holiday']]\n",
      "[2025-07-20 18:57:50,711: INFO: ts_generator: Columns for sub_region_code 0: ['date', 'demand', 'temperature_2m', 'hour', 'day_of_week', 'month', 'is_weekend', 'is_holiday']]\n"
     ]
    },
    {
     "name": "stderr",
     "output_type": "stream",
     "text": [
      "Generating TS features: 100%|██████████| 11/11 [00:00<00:00, 22.72it/s]"
     ]
    },
    {
     "name": "stdout",
     "output_type": "stream",
     "text": [
      "[2025-07-20 18:57:50,755: INFO: ts_generator: Features columns: ['demand_previous_672_hour', 'demand_previous_671_hour', 'demand_previous_670_hour', 'demand_previous_669_hour', 'demand_previous_668_hour', 'demand_previous_667_hour', 'demand_previous_666_hour', 'demand_previous_665_hour', 'demand_previous_664_hour', 'demand_previous_663_hour', 'demand_previous_662_hour', 'demand_previous_661_hour', 'demand_previous_660_hour', 'demand_previous_659_hour', 'demand_previous_658_hour', 'demand_previous_657_hour', 'demand_previous_656_hour', 'demand_previous_655_hour', 'demand_previous_654_hour', 'demand_previous_653_hour', 'demand_previous_652_hour', 'demand_previous_651_hour', 'demand_previous_650_hour', 'demand_previous_649_hour', 'demand_previous_648_hour', 'demand_previous_647_hour', 'demand_previous_646_hour', 'demand_previous_645_hour', 'demand_previous_644_hour', 'demand_previous_643_hour', 'demand_previous_642_hour', 'demand_previous_641_hour', 'demand_previous_640_hour', 'demand_previous_639_hour', 'demand_previous_638_hour', 'demand_previous_637_hour', 'demand_previous_636_hour', 'demand_previous_635_hour', 'demand_previous_634_hour', 'demand_previous_633_hour', 'demand_previous_632_hour', 'demand_previous_631_hour', 'demand_previous_630_hour', 'demand_previous_629_hour', 'demand_previous_628_hour', 'demand_previous_627_hour', 'demand_previous_626_hour', 'demand_previous_625_hour', 'demand_previous_624_hour', 'demand_previous_623_hour', 'demand_previous_622_hour', 'demand_previous_621_hour', 'demand_previous_620_hour', 'demand_previous_619_hour', 'demand_previous_618_hour', 'demand_previous_617_hour', 'demand_previous_616_hour', 'demand_previous_615_hour', 'demand_previous_614_hour', 'demand_previous_613_hour', 'demand_previous_612_hour', 'demand_previous_611_hour', 'demand_previous_610_hour', 'demand_previous_609_hour', 'demand_previous_608_hour', 'demand_previous_607_hour', 'demand_previous_606_hour', 'demand_previous_605_hour', 'demand_previous_604_hour', 'demand_previous_603_hour', 'demand_previous_602_hour', 'demand_previous_601_hour', 'demand_previous_600_hour', 'demand_previous_599_hour', 'demand_previous_598_hour', 'demand_previous_597_hour', 'demand_previous_596_hour', 'demand_previous_595_hour', 'demand_previous_594_hour', 'demand_previous_593_hour', 'demand_previous_592_hour', 'demand_previous_591_hour', 'demand_previous_590_hour', 'demand_previous_589_hour', 'demand_previous_588_hour', 'demand_previous_587_hour', 'demand_previous_586_hour', 'demand_previous_585_hour', 'demand_previous_584_hour', 'demand_previous_583_hour', 'demand_previous_582_hour', 'demand_previous_581_hour', 'demand_previous_580_hour', 'demand_previous_579_hour', 'demand_previous_578_hour', 'demand_previous_577_hour', 'demand_previous_576_hour', 'demand_previous_575_hour', 'demand_previous_574_hour', 'demand_previous_573_hour', 'demand_previous_572_hour', 'demand_previous_571_hour', 'demand_previous_570_hour', 'demand_previous_569_hour', 'demand_previous_568_hour', 'demand_previous_567_hour', 'demand_previous_566_hour', 'demand_previous_565_hour', 'demand_previous_564_hour', 'demand_previous_563_hour', 'demand_previous_562_hour', 'demand_previous_561_hour', 'demand_previous_560_hour', 'demand_previous_559_hour', 'demand_previous_558_hour', 'demand_previous_557_hour', 'demand_previous_556_hour', 'demand_previous_555_hour', 'demand_previous_554_hour', 'demand_previous_553_hour', 'demand_previous_552_hour', 'demand_previous_551_hour', 'demand_previous_550_hour', 'demand_previous_549_hour', 'demand_previous_548_hour', 'demand_previous_547_hour', 'demand_previous_546_hour', 'demand_previous_545_hour', 'demand_previous_544_hour', 'demand_previous_543_hour', 'demand_previous_542_hour', 'demand_previous_541_hour', 'demand_previous_540_hour', 'demand_previous_539_hour', 'demand_previous_538_hour', 'demand_previous_537_hour', 'demand_previous_536_hour', 'demand_previous_535_hour', 'demand_previous_534_hour', 'demand_previous_533_hour', 'demand_previous_532_hour', 'demand_previous_531_hour', 'demand_previous_530_hour', 'demand_previous_529_hour', 'demand_previous_528_hour', 'demand_previous_527_hour', 'demand_previous_526_hour', 'demand_previous_525_hour', 'demand_previous_524_hour', 'demand_previous_523_hour', 'demand_previous_522_hour', 'demand_previous_521_hour', 'demand_previous_520_hour', 'demand_previous_519_hour', 'demand_previous_518_hour', 'demand_previous_517_hour', 'demand_previous_516_hour', 'demand_previous_515_hour', 'demand_previous_514_hour', 'demand_previous_513_hour', 'demand_previous_512_hour', 'demand_previous_511_hour', 'demand_previous_510_hour', 'demand_previous_509_hour', 'demand_previous_508_hour', 'demand_previous_507_hour', 'demand_previous_506_hour', 'demand_previous_505_hour', 'demand_previous_504_hour', 'demand_previous_503_hour', 'demand_previous_502_hour', 'demand_previous_501_hour', 'demand_previous_500_hour', 'demand_previous_499_hour', 'demand_previous_498_hour', 'demand_previous_497_hour', 'demand_previous_496_hour', 'demand_previous_495_hour', 'demand_previous_494_hour', 'demand_previous_493_hour', 'demand_previous_492_hour', 'demand_previous_491_hour', 'demand_previous_490_hour', 'demand_previous_489_hour', 'demand_previous_488_hour', 'demand_previous_487_hour', 'demand_previous_486_hour', 'demand_previous_485_hour', 'demand_previous_484_hour', 'demand_previous_483_hour', 'demand_previous_482_hour', 'demand_previous_481_hour', 'demand_previous_480_hour', 'demand_previous_479_hour', 'demand_previous_478_hour', 'demand_previous_477_hour', 'demand_previous_476_hour', 'demand_previous_475_hour', 'demand_previous_474_hour', 'demand_previous_473_hour', 'demand_previous_472_hour', 'demand_previous_471_hour', 'demand_previous_470_hour', 'demand_previous_469_hour', 'demand_previous_468_hour', 'demand_previous_467_hour', 'demand_previous_466_hour', 'demand_previous_465_hour', 'demand_previous_464_hour', 'demand_previous_463_hour', 'demand_previous_462_hour', 'demand_previous_461_hour', 'demand_previous_460_hour', 'demand_previous_459_hour', 'demand_previous_458_hour', 'demand_previous_457_hour', 'demand_previous_456_hour', 'demand_previous_455_hour', 'demand_previous_454_hour', 'demand_previous_453_hour', 'demand_previous_452_hour', 'demand_previous_451_hour', 'demand_previous_450_hour', 'demand_previous_449_hour', 'demand_previous_448_hour', 'demand_previous_447_hour', 'demand_previous_446_hour', 'demand_previous_445_hour', 'demand_previous_444_hour', 'demand_previous_443_hour', 'demand_previous_442_hour', 'demand_previous_441_hour', 'demand_previous_440_hour', 'demand_previous_439_hour', 'demand_previous_438_hour', 'demand_previous_437_hour', 'demand_previous_436_hour', 'demand_previous_435_hour', 'demand_previous_434_hour', 'demand_previous_433_hour', 'demand_previous_432_hour', 'demand_previous_431_hour', 'demand_previous_430_hour', 'demand_previous_429_hour', 'demand_previous_428_hour', 'demand_previous_427_hour', 'demand_previous_426_hour', 'demand_previous_425_hour', 'demand_previous_424_hour', 'demand_previous_423_hour', 'demand_previous_422_hour', 'demand_previous_421_hour', 'demand_previous_420_hour', 'demand_previous_419_hour', 'demand_previous_418_hour', 'demand_previous_417_hour', 'demand_previous_416_hour', 'demand_previous_415_hour', 'demand_previous_414_hour', 'demand_previous_413_hour', 'demand_previous_412_hour', 'demand_previous_411_hour', 'demand_previous_410_hour', 'demand_previous_409_hour', 'demand_previous_408_hour', 'demand_previous_407_hour', 'demand_previous_406_hour', 'demand_previous_405_hour', 'demand_previous_404_hour', 'demand_previous_403_hour', 'demand_previous_402_hour', 'demand_previous_401_hour', 'demand_previous_400_hour', 'demand_previous_399_hour', 'demand_previous_398_hour', 'demand_previous_397_hour', 'demand_previous_396_hour', 'demand_previous_395_hour', 'demand_previous_394_hour', 'demand_previous_393_hour', 'demand_previous_392_hour', 'demand_previous_391_hour', 'demand_previous_390_hour', 'demand_previous_389_hour', 'demand_previous_388_hour', 'demand_previous_387_hour', 'demand_previous_386_hour', 'demand_previous_385_hour', 'demand_previous_384_hour', 'demand_previous_383_hour', 'demand_previous_382_hour', 'demand_previous_381_hour', 'demand_previous_380_hour', 'demand_previous_379_hour', 'demand_previous_378_hour', 'demand_previous_377_hour', 'demand_previous_376_hour', 'demand_previous_375_hour', 'demand_previous_374_hour', 'demand_previous_373_hour', 'demand_previous_372_hour', 'demand_previous_371_hour', 'demand_previous_370_hour', 'demand_previous_369_hour', 'demand_previous_368_hour', 'demand_previous_367_hour', 'demand_previous_366_hour', 'demand_previous_365_hour', 'demand_previous_364_hour', 'demand_previous_363_hour', 'demand_previous_362_hour', 'demand_previous_361_hour', 'demand_previous_360_hour', 'demand_previous_359_hour', 'demand_previous_358_hour', 'demand_previous_357_hour', 'demand_previous_356_hour', 'demand_previous_355_hour', 'demand_previous_354_hour', 'demand_previous_353_hour', 'demand_previous_352_hour', 'demand_previous_351_hour', 'demand_previous_350_hour', 'demand_previous_349_hour', 'demand_previous_348_hour', 'demand_previous_347_hour', 'demand_previous_346_hour', 'demand_previous_345_hour', 'demand_previous_344_hour', 'demand_previous_343_hour', 'demand_previous_342_hour', 'demand_previous_341_hour', 'demand_previous_340_hour', 'demand_previous_339_hour', 'demand_previous_338_hour', 'demand_previous_337_hour', 'demand_previous_336_hour', 'demand_previous_335_hour', 'demand_previous_334_hour', 'demand_previous_333_hour', 'demand_previous_332_hour', 'demand_previous_331_hour', 'demand_previous_330_hour', 'demand_previous_329_hour', 'demand_previous_328_hour', 'demand_previous_327_hour', 'demand_previous_326_hour', 'demand_previous_325_hour', 'demand_previous_324_hour', 'demand_previous_323_hour', 'demand_previous_322_hour', 'demand_previous_321_hour', 'demand_previous_320_hour', 'demand_previous_319_hour', 'demand_previous_318_hour', 'demand_previous_317_hour', 'demand_previous_316_hour', 'demand_previous_315_hour', 'demand_previous_314_hour', 'demand_previous_313_hour', 'demand_previous_312_hour', 'demand_previous_311_hour', 'demand_previous_310_hour', 'demand_previous_309_hour', 'demand_previous_308_hour', 'demand_previous_307_hour', 'demand_previous_306_hour', 'demand_previous_305_hour', 'demand_previous_304_hour', 'demand_previous_303_hour', 'demand_previous_302_hour', 'demand_previous_301_hour', 'demand_previous_300_hour', 'demand_previous_299_hour', 'demand_previous_298_hour', 'demand_previous_297_hour', 'demand_previous_296_hour', 'demand_previous_295_hour', 'demand_previous_294_hour', 'demand_previous_293_hour', 'demand_previous_292_hour', 'demand_previous_291_hour', 'demand_previous_290_hour', 'demand_previous_289_hour', 'demand_previous_288_hour', 'demand_previous_287_hour', 'demand_previous_286_hour', 'demand_previous_285_hour', 'demand_previous_284_hour', 'demand_previous_283_hour', 'demand_previous_282_hour', 'demand_previous_281_hour', 'demand_previous_280_hour', 'demand_previous_279_hour', 'demand_previous_278_hour', 'demand_previous_277_hour', 'demand_previous_276_hour', 'demand_previous_275_hour', 'demand_previous_274_hour', 'demand_previous_273_hour', 'demand_previous_272_hour', 'demand_previous_271_hour', 'demand_previous_270_hour', 'demand_previous_269_hour', 'demand_previous_268_hour', 'demand_previous_267_hour', 'demand_previous_266_hour', 'demand_previous_265_hour', 'demand_previous_264_hour', 'demand_previous_263_hour', 'demand_previous_262_hour', 'demand_previous_261_hour', 'demand_previous_260_hour', 'demand_previous_259_hour', 'demand_previous_258_hour', 'demand_previous_257_hour', 'demand_previous_256_hour', 'demand_previous_255_hour', 'demand_previous_254_hour', 'demand_previous_253_hour', 'demand_previous_252_hour', 'demand_previous_251_hour', 'demand_previous_250_hour', 'demand_previous_249_hour', 'demand_previous_248_hour', 'demand_previous_247_hour', 'demand_previous_246_hour', 'demand_previous_245_hour', 'demand_previous_244_hour', 'demand_previous_243_hour', 'demand_previous_242_hour', 'demand_previous_241_hour', 'demand_previous_240_hour', 'demand_previous_239_hour', 'demand_previous_238_hour', 'demand_previous_237_hour', 'demand_previous_236_hour', 'demand_previous_235_hour', 'demand_previous_234_hour', 'demand_previous_233_hour', 'demand_previous_232_hour', 'demand_previous_231_hour', 'demand_previous_230_hour', 'demand_previous_229_hour', 'demand_previous_228_hour', 'demand_previous_227_hour', 'demand_previous_226_hour', 'demand_previous_225_hour', 'demand_previous_224_hour', 'demand_previous_223_hour', 'demand_previous_222_hour', 'demand_previous_221_hour', 'demand_previous_220_hour', 'demand_previous_219_hour', 'demand_previous_218_hour', 'demand_previous_217_hour', 'demand_previous_216_hour', 'demand_previous_215_hour', 'demand_previous_214_hour', 'demand_previous_213_hour', 'demand_previous_212_hour', 'demand_previous_211_hour', 'demand_previous_210_hour', 'demand_previous_209_hour', 'demand_previous_208_hour', 'demand_previous_207_hour', 'demand_previous_206_hour', 'demand_previous_205_hour', 'demand_previous_204_hour', 'demand_previous_203_hour', 'demand_previous_202_hour', 'demand_previous_201_hour', 'demand_previous_200_hour', 'demand_previous_199_hour', 'demand_previous_198_hour', 'demand_previous_197_hour', 'demand_previous_196_hour', 'demand_previous_195_hour', 'demand_previous_194_hour', 'demand_previous_193_hour', 'demand_previous_192_hour', 'demand_previous_191_hour', 'demand_previous_190_hour', 'demand_previous_189_hour', 'demand_previous_188_hour', 'demand_previous_187_hour', 'demand_previous_186_hour', 'demand_previous_185_hour', 'demand_previous_184_hour', 'demand_previous_183_hour', 'demand_previous_182_hour', 'demand_previous_181_hour', 'demand_previous_180_hour', 'demand_previous_179_hour', 'demand_previous_178_hour', 'demand_previous_177_hour', 'demand_previous_176_hour', 'demand_previous_175_hour', 'demand_previous_174_hour', 'demand_previous_173_hour', 'demand_previous_172_hour', 'demand_previous_171_hour', 'demand_previous_170_hour', 'demand_previous_169_hour', 'demand_previous_168_hour', 'demand_previous_167_hour', 'demand_previous_166_hour', 'demand_previous_165_hour', 'demand_previous_164_hour', 'demand_previous_163_hour', 'demand_previous_162_hour', 'demand_previous_161_hour', 'demand_previous_160_hour', 'demand_previous_159_hour', 'demand_previous_158_hour', 'demand_previous_157_hour', 'demand_previous_156_hour', 'demand_previous_155_hour', 'demand_previous_154_hour', 'demand_previous_153_hour', 'demand_previous_152_hour', 'demand_previous_151_hour', 'demand_previous_150_hour', 'demand_previous_149_hour', 'demand_previous_148_hour', 'demand_previous_147_hour', 'demand_previous_146_hour', 'demand_previous_145_hour', 'demand_previous_144_hour', 'demand_previous_143_hour', 'demand_previous_142_hour', 'demand_previous_141_hour', 'demand_previous_140_hour', 'demand_previous_139_hour', 'demand_previous_138_hour', 'demand_previous_137_hour', 'demand_previous_136_hour', 'demand_previous_135_hour', 'demand_previous_134_hour', 'demand_previous_133_hour', 'demand_previous_132_hour', 'demand_previous_131_hour', 'demand_previous_130_hour', 'demand_previous_129_hour', 'demand_previous_128_hour', 'demand_previous_127_hour', 'demand_previous_126_hour', 'demand_previous_125_hour', 'demand_previous_124_hour', 'demand_previous_123_hour', 'demand_previous_122_hour', 'demand_previous_121_hour', 'demand_previous_120_hour', 'demand_previous_119_hour', 'demand_previous_118_hour', 'demand_previous_117_hour', 'demand_previous_116_hour', 'demand_previous_115_hour', 'demand_previous_114_hour', 'demand_previous_113_hour', 'demand_previous_112_hour', 'demand_previous_111_hour', 'demand_previous_110_hour', 'demand_previous_109_hour', 'demand_previous_108_hour', 'demand_previous_107_hour', 'demand_previous_106_hour', 'demand_previous_105_hour', 'demand_previous_104_hour', 'demand_previous_103_hour', 'demand_previous_102_hour', 'demand_previous_101_hour', 'demand_previous_100_hour', 'demand_previous_99_hour', 'demand_previous_98_hour', 'demand_previous_97_hour', 'demand_previous_96_hour', 'demand_previous_95_hour', 'demand_previous_94_hour', 'demand_previous_93_hour', 'demand_previous_92_hour', 'demand_previous_91_hour', 'demand_previous_90_hour', 'demand_previous_89_hour', 'demand_previous_88_hour', 'demand_previous_87_hour', 'demand_previous_86_hour', 'demand_previous_85_hour', 'demand_previous_84_hour', 'demand_previous_83_hour', 'demand_previous_82_hour', 'demand_previous_81_hour', 'demand_previous_80_hour', 'demand_previous_79_hour', 'demand_previous_78_hour', 'demand_previous_77_hour', 'demand_previous_76_hour', 'demand_previous_75_hour', 'demand_previous_74_hour', 'demand_previous_73_hour', 'demand_previous_72_hour', 'demand_previous_71_hour', 'demand_previous_70_hour', 'demand_previous_69_hour', 'demand_previous_68_hour', 'demand_previous_67_hour', 'demand_previous_66_hour', 'demand_previous_65_hour', 'demand_previous_64_hour', 'demand_previous_63_hour', 'demand_previous_62_hour', 'demand_previous_61_hour', 'demand_previous_60_hour', 'demand_previous_59_hour', 'demand_previous_58_hour', 'demand_previous_57_hour', 'demand_previous_56_hour', 'demand_previous_55_hour', 'demand_previous_54_hour', 'demand_previous_53_hour', 'demand_previous_52_hour', 'demand_previous_51_hour', 'demand_previous_50_hour', 'demand_previous_49_hour', 'demand_previous_48_hour', 'demand_previous_47_hour', 'demand_previous_46_hour', 'demand_previous_45_hour', 'demand_previous_44_hour', 'demand_previous_43_hour', 'demand_previous_42_hour', 'demand_previous_41_hour', 'demand_previous_40_hour', 'demand_previous_39_hour', 'demand_previous_38_hour', 'demand_previous_37_hour', 'demand_previous_36_hour', 'demand_previous_35_hour', 'demand_previous_34_hour', 'demand_previous_33_hour', 'demand_previous_32_hour', 'demand_previous_31_hour', 'demand_previous_30_hour', 'demand_previous_29_hour', 'demand_previous_28_hour', 'demand_previous_27_hour', 'demand_previous_26_hour', 'demand_previous_25_hour', 'demand_previous_24_hour', 'demand_previous_23_hour', 'demand_previous_22_hour', 'demand_previous_21_hour', 'demand_previous_20_hour', 'demand_previous_19_hour', 'demand_previous_18_hour', 'demand_previous_17_hour', 'demand_previous_16_hour', 'demand_previous_15_hour', 'demand_previous_14_hour', 'demand_previous_13_hour', 'demand_previous_12_hour', 'demand_previous_11_hour', 'demand_previous_10_hour', 'demand_previous_9_hour', 'demand_previous_8_hour', 'demand_previous_7_hour', 'demand_previous_6_hour', 'demand_previous_5_hour', 'demand_previous_4_hour', 'demand_previous_3_hour', 'demand_previous_2_hour', 'demand_previous_1_hour', 'temperature_2m', 'hour', 'day_of_week', 'month', 'is_weekend', 'is_holiday']]\n",
      "[2025-07-20 18:57:50,756: INFO: ts_generator: Features dtypes:\n",
      "demand_previous_672_hour    float64\n",
      "demand_previous_671_hour    float64\n",
      "demand_previous_670_hour    float64\n",
      "demand_previous_669_hour    float64\n",
      "demand_previous_668_hour    float64\n",
      "                             ...   \n",
      "hour                          int64\n",
      "day_of_week                   int64\n",
      "month                         int64\n",
      "is_weekend                    int64\n",
      "is_holiday                    int64\n",
      "Length: 678, dtype: object]\n"
     ]
    },
    {
     "name": "stderr",
     "output_type": "stream",
     "text": [
      "\n"
     ]
    },
    {
     "name": "stdout",
     "output_type": "stream",
     "text": [
      "[2025-07-20 18:57:52,089: INFO: 2497270355: Loading model: wattpredictor_lightgbm, version: 2]\n"
     ]
    },
    {
     "data": {
      "application/vnd.jupyter.widget-view+json": {
       "model_id": "def51bfcd5b04f519ef4caee7634400e",
       "version_major": 2,
       "version_minor": 0
      },
      "text/plain": [
       "Downloading: 0.000%|          | 0/1590937 elapsed<00:00 remaining<?"
      ]
     },
     "metadata": {},
     "output_type": "display_data"
    },
    {
     "name": "stdout",
     "output_type": "stream",
     "text": [
      "[2025-07-20 18:58:01,264: INFO: helpers: created directory at: artifacts\\evaluation]\n",
      "[2025-07-20 18:58:01,267: INFO: helpers: json file saved at: artifacts\\evaluation\\metrics.json]\n",
      "[2025-07-20 18:58:01,268: INFO: 2497270355: Saved evaluation metrics at artifacts\\evaluation\\metrics.json]\n",
      "[2025-07-20 18:58:01,657: WARNING: warnings: DeprecationWarning: backend2gui is deprecated since IPython 8.24, backends are managed in matplotlib and can be externally registered.\n",
      "]\n",
      "[2025-07-20 18:58:01,690: INFO: helpers: created directory at: artifacts\\evaluation]\n",
      "[2025-07-20 18:58:01,847: INFO: 2497270355: Saved prediction plot at artifacts\\evaluation\\pred_vs_actual.png]\n"
     ]
    },
    {
     "data": {
      "application/vnd.jupyter.widget-view+json": {
       "model_id": "a3adf48687e14eddbaaa9e29d9bba349",
       "version_major": 2,
       "version_minor": 0
      },
      "text/plain": [
       "Uploading f:\\WattPredictor\\artifacts\\evaluation\\metrics.json: 0.000%|          | 0/210 elapsed<00:00 remaining…"
      ]
     },
     "metadata": {},
     "output_type": "display_data"
    },
    {
     "name": "stdout",
     "output_type": "stream",
     "text": [
      "[2025-07-20 18:58:04,749: INFO: feature_store: Uploaded file to Feature Store: eval/metrics.json]\n"
     ]
    },
    {
     "data": {
      "application/vnd.jupyter.widget-view+json": {
       "model_id": "4ef66575a4864666a1229bbd3b790aa2",
       "version_major": 2,
       "version_minor": 0
      },
      "text/plain": [
       "Uploading f:\\WattPredictor\\artifacts\\evaluation\\pred_vs_actual.png: 0.000%|          | 0/52961 elapsed<00:00 r…"
      ]
     },
     "metadata": {},
     "output_type": "display_data"
    },
    {
     "name": "stdout",
     "output_type": "stream",
     "text": [
      "[2025-07-20 18:58:08,112: INFO: feature_store: Uploaded file to Feature Store: eval/pred_vs_actual.png]\n",
      "[2025-07-20 18:58:08,115: INFO: 2497270355: Evaluation results uploaded to Hopsworks dataset storage]\n"
     ]
    }
   ],
   "source": [
    "try:\n",
    "    config = ModelConfigurationManager()\n",
    "    model_evaluation_config = config.get_model_evaluation_config()\n",
    "    model_evaluation = Evaluation(config=model_evaluation_config)\n",
    "    model_evaluation.evaluate()\n",
    "except Exception as e:\n",
    "    raise CustomException(str(e), sys)"
   ]
  }
 ],
 "metadata": {
  "kernelspec": {
   "display_name": "WattPredictor",
   "language": "python",
   "name": "python3"
  },
  "language_info": {
   "codemirror_mode": {
    "name": "ipython",
    "version": 3
   },
   "file_extension": ".py",
   "mimetype": "text/x-python",
   "name": "python",
   "nbconvert_exporter": "python",
   "pygments_lexer": "ipython3",
   "version": "3.10.18"
  }
 },
 "nbformat": 4,
 "nbformat_minor": 2
}
