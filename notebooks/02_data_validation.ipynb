{
 "cells": [
  {
   "cell_type": "code",
   "execution_count": 1,
   "id": "212c07d0",
   "metadata": {},
   "outputs": [],
   "source": [
    "import os\n",
    "import sys"
   ]
  },
  {
   "cell_type": "code",
   "execution_count": 2,
   "id": "c4e7058b",
   "metadata": {},
   "outputs": [],
   "source": [
    "os.chdir('../')"
   ]
  },
  {
   "cell_type": "code",
   "execution_count": 3,
   "id": "a4752a98",
   "metadata": {},
   "outputs": [],
   "source": [
    "sys.path.append(os.path.join(os.getcwd(), \"src\"))"
   ]
  },
  {
   "cell_type": "code",
   "execution_count": 4,
   "id": "97995627",
   "metadata": {},
   "outputs": [],
   "source": [
    "from WattPredictor.utils.helpers import *\n",
    "from WattPredictor.constants import *\n",
    "from WattPredictor.utils.exception import *\n",
    "from WattPredictor.utils.logging import logger\n",
    "from pathlib import Path\n",
    "from dataclasses import dataclass\n",
    "import pandas as pd"
   ]
  },
  {
   "cell_type": "code",
   "execution_count": 5,
   "id": "c96c6112",
   "metadata": {},
   "outputs": [],
   "source": [
    "@dataclass(frozen=True)\n",
    "class DataValidationConfig:\n",
    "    root_dir: Path\n",
    "    data_file: Path\n",
    "    status_file: Path\n",
    "    all_schema: dict"
   ]
  },
  {
   "cell_type": "code",
   "execution_count": 6,
   "id": "6ae13672",
   "metadata": {},
   "outputs": [],
   "source": [
    "class ConfigurationManager:\n",
    "    def __init__(\n",
    "        self, \n",
    "        config_filepath=CONFIG_PATH, \n",
    "        params_filepath=PARAMS_PATH, \n",
    "        schema_filepath=SCHEMA_PATH\n",
    "    ):\n",
    "        self.config = read_yaml(config_filepath)\n",
    "        self.params = read_yaml(params_filepath)\n",
    "        self.schema = read_yaml(schema_filepath)\n",
    "        create_directories([self.config.artifacts_root])\n",
    "\n",
    "    def get_data_validation_config(self) -> DataValidationConfig:\n",
    "        config = self.config.data_validation\n",
    "        schema = self.schema.columns\n",
    "        \n",
    "        create_directories([config.root_dir])\n",
    "        \n",
    "        data_validation_config = DataValidationConfig(\n",
    "            root_dir=config.root_dir,\n",
    "            status_file=config.status_file,\n",
    "            data_file=config.data_file,\n",
    "            all_schema=schema,\n",
    "        )\n",
    "        return data_validation_config"
   ]
  },
  {
   "cell_type": "code",
   "execution_count": 7,
   "id": "ab32e916",
   "metadata": {},
   "outputs": [],
   "source": [
    "import os\n",
    "import json\n",
    "import pandas as pd\n",
    "from WattPredictor.utils.logging import logger\n",
    "from WattPredictor.entity.config_entity import DataValidationConfig\n",
    "from WattPredictor.utils.helpers import create_directories\n",
    "from WattPredictor.utils.exception import CustomException\n",
    "\n",
    "class Validation:\n",
    "    def __init__(self, config: DataValidationConfig):\n",
    "        self.config = config\n",
    "\n",
    "    def validate_data_types(self, data: pd.DataFrame, schema: dict):\n",
    "\n",
    "        type_mapping = {\n",
    "            'int': ['int64', 'int32'],\n",
    "            'float': ['float64', 'float32'],\n",
    "            'object': ['object'],\n",
    "            'str': ['object'], \n",
    "        }\n",
    "\n",
    "        for col, expected_type in schema.items():\n",
    "            if col not in data.columns:\n",
    "                continue \n",
    "                \n",
    "            actual_dtype = str(data[col].dtype)\n",
    "            allowed_dtypes = type_mapping.get(expected_type, [expected_type])\n",
    "\n",
    "            if actual_dtype not in allowed_dtypes:\n",
    "                logger.error(f\"Column '{col}': Expected type '{expected_type}', got '{actual_dtype}'\")\n",
    "                return False\n",
    "        return True\n",
    "\n",
    "    def validate_column_presence(self, data: pd.DataFrame, schema: dict):\n",
    "        all_cols = list(data.columns)\n",
    "        expected_cols = set(schema.keys())\n",
    "        missing_cols = expected_cols - set(all_cols)\n",
    "\n",
    "        if missing_cols:\n",
    "            logger.error(f\"Missing columns: {missing_cols}\")\n",
    "            return False\n",
    "        return True\n",
    "    \n",
    "    def check_missing_values(self, data: pd.DataFrame) -> bool:\n",
    "        missing = data.isnull().sum()\n",
    "        if missing.any():\n",
    "            logger.error(f\"Missing values detected:\\n{missing[missing > 0]}\")\n",
    "            return False\n",
    "        return True\n",
    "\n",
    "    def check_duplicates(self, data: pd.DataFrame) -> bool:\n",
    "        duplicates = data.duplicated().sum()\n",
    "        if duplicates > 0:\n",
    "            logger.warning(f\"Duplicate rows detected: {duplicates}. Removing...\")\n",
    "            data.drop_duplicates(inplace=True)\n",
    "            logger.info(f\"{duplicates} duplicate rows removed.\")\n",
    "            data.to_csv(self.config.data_file, index=False)\n",
    "        return True\n",
    "\n",
    "\n",
    "    def validator(self):\n",
    "        data = pd.read_csv(self.config.data_file)\n",
    "        schema = self.config.all_schema\n",
    "\n",
    "        logger.info(f\"Starting validation for data with shape: {data.shape}\")\n",
    "            \n",
    "        validation_results = {}\n",
    "            \n",
    "        validation_results = {\n",
    "            'column_presence': self.validate_column_presence(data, schema),\n",
    "            'data_types': self.validate_data_types(data, schema),\n",
    "            'missing_values': self.check_missing_values(data),\n",
    "            'duplicates': self.check_duplicates(data)\n",
    "        }\n",
    "            \n",
    "        is_valid = all(validation_results.values())\n",
    "\n",
    "        create_directories([os.path.dirname(self.config.status_file)])\n",
    "\n",
    "        for check, result in validation_results.items():\n",
    "            logger.info(f\"{check}: {'PASSED' if result else 'FAILED'}\")\n",
    "\n",
    "        logger.info(f\"Overall validation status: {'PASSED' if is_valid else 'FAILED'}\")\n",
    "\n",
    "        with open(self.config.status_file, 'w') as f:\n",
    "            json.dump({\"validation_status\": is_valid}, f, indent=4)\n",
    "\n",
    "        return is_valid"
   ]
  },
  {
   "cell_type": "code",
   "execution_count": 8,
   "id": "63a0ea4a",
   "metadata": {},
   "outputs": [
    {
     "name": "stdout",
     "output_type": "stream",
     "text": [
      "[2025-07-16 11:45:27,663: INFO: helpers: yaml file: config_file\\config.yaml loaded successfully]\n",
      "[2025-07-16 11:45:27,670: INFO: helpers: yaml file: config_file\\params.yaml loaded successfully]\n",
      "[2025-07-16 11:45:27,676: INFO: helpers: yaml file: config_file\\schema.yaml loaded successfully]\n",
      "[2025-07-16 11:45:27,679: INFO: helpers: created directory at: artifacts]\n",
      "[2025-07-16 11:45:27,679: INFO: helpers: created directory at: artifacts/data_validation]\n",
      "[2025-07-16 11:45:27,796: INFO: 4265189487: Starting validation for data with shape: (41184, 13)]\n",
      "[2025-07-16 11:45:27,846: WARNING: 4265189487: Duplicate rows detected: 1639. Removing...]\n",
      "[2025-07-16 11:45:27,897: INFO: 4265189487: 1639 duplicate rows removed.]\n",
      "[2025-07-16 11:45:28,168: INFO: helpers: created directory at: artifacts/data_validation]\n",
      "[2025-07-16 11:45:28,168: INFO: 4265189487: column_presence: PASSED]\n",
      "[2025-07-16 11:45:28,168: INFO: 4265189487: data_types: PASSED]\n",
      "[2025-07-16 11:45:28,168: INFO: 4265189487: missing_values: PASSED]\n",
      "[2025-07-16 11:45:28,168: INFO: 4265189487: duplicates: PASSED]\n",
      "[2025-07-16 11:45:28,168: INFO: 4265189487: Overall validation status: PASSED]\n"
     ]
    }
   ],
   "source": [
    "try:\n",
    "    config = ConfigurationManager()\n",
    "    data_validation_config = config.get_data_validation_config()\n",
    "    data_validation = Validation(data_validation_config)\n",
    "    data_validation.validator()\n",
    "except Exception as e:\n",
    "    raise CustomException(str(e), sys) from e"
   ]
  }
 ],
 "metadata": {
  "kernelspec": {
   "display_name": "WattPredictor",
   "language": "python",
   "name": "python3"
  },
  "language_info": {
   "codemirror_mode": {
    "name": "ipython",
    "version": 3
   },
   "file_extension": ".py",
   "mimetype": "text/x-python",
   "name": "python",
   "nbconvert_exporter": "python",
   "pygments_lexer": "ipython3",
   "version": "3.10.18"
  }
 },
 "nbformat": 4,
 "nbformat_minor": 5
}
