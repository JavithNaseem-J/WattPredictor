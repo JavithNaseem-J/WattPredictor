{
 "cells": [
  {
   "cell_type": "code",
   "execution_count": 1,
   "id": "212c07d0",
   "metadata": {},
   "outputs": [],
   "source": [
    "import os\n",
    "import sys"
   ]
  },
  {
   "cell_type": "code",
   "execution_count": 2,
   "id": "c4e7058b",
   "metadata": {},
   "outputs": [],
   "source": [
    "os.chdir('../')"
   ]
  },
  {
   "cell_type": "code",
   "execution_count": 3,
   "id": "a4752a98",
   "metadata": {},
   "outputs": [],
   "source": [
    "sys.path.append(os.path.join(os.getcwd(), \"src\"))"
   ]
  },
  {
   "cell_type": "code",
   "execution_count": null,
   "id": "ab32e916",
   "metadata": {},
   "outputs": [],
   "source": [
    "import os\n",
    "import json\n",
    "import pandas as pd\n",
    "from WattPredictor.utils.logging import logger\n",
    "from WattPredictor.entity.config_entity import ValidationConfig\n",
    "from WattPredictor.config.data_config import DataConfigurationManager\n",
    "from WattPredictor.utils.helpers import create_directories\n",
    "from WattPredictor.utils.exception import CustomException\n",
    "\n",
    "class Validation:\n",
    "    def __init__(self, config: ValidationConfig):\n",
    "        self.config = config\n",
    "\n",
    "    def validate_data_types(self, data: pd.DataFrame, schema: dict):\n",
    "\n",
    "        type_mapping = {\n",
    "            'int': ['int64', 'int32'],\n",
    "            'float': ['float64', 'float32'],\n",
    "            'object': ['object'],\n",
    "            'str': ['object'], \n",
    "        }\n",
    "\n",
    "        for col, expected_type in schema.items():\n",
    "            if col not in data.columns:\n",
    "                continue \n",
    "                \n",
    "            actual_dtype = str(data[col].dtype)\n",
    "            allowed_dtypes = type_mapping.get(expected_type, [expected_type])\n",
    "\n",
    "            if actual_dtype not in allowed_dtypes:\n",
    "                logger.error(f\"Column '{col}': Expected type '{expected_type}', got '{actual_dtype}'\")\n",
    "                return False\n",
    "        return True\n",
    "\n",
    "    def validate_column_presence(self, data: pd.DataFrame, schema: dict):\n",
    "        all_cols = list(data.columns)\n",
    "        expected_cols = set(schema.keys())\n",
    "        missing_cols = expected_cols - set(all_cols)\n",
    "\n",
    "        if missing_cols:\n",
    "            logger.error(f\"Missing columns: {missing_cols}\")\n",
    "            return False\n",
    "        return True\n",
    "    \n",
    "    def check_missing_values(self, data: pd.DataFrame, threshold: float = 0.05) -> bool:\n",
    "        missing_percent = data.isnull().mean()\n",
    "        flagged = missing_percent[missing_percent > threshold]\n",
    "        if not flagged.empty:\n",
    "            logger.error(f\"Columns exceeding {threshold*100}% missing:\\n{flagged}\")\n",
    "            return False\n",
    "        return True\n",
    "\n",
    "\n",
    "    def validator(self):\n",
    "        data = pd.read_csv(self.config.data_file)\n",
    "        schema = self.config.all_schema\n",
    "\n",
    "        logger.info(f\"Starting validation for data with shape: {data.shape}\")\n",
    "            \n",
    "        validation_results = {}\n",
    "            \n",
    "        validation_results = {\n",
    "            'column_presence': self.validate_column_presence(data, schema),\n",
    "            'data_types': self.validate_data_types(data, schema),\n",
    "            'missing_values': self.check_missing_values(data),\n",
    "        }\n",
    "            \n",
    "        is_valid = all(validation_results.values())\n",
    "\n",
    "        create_directories([os.path.dirname(self.config.status_file)])\n",
    "\n",
    "        for check, result in validation_results.items():\n",
    "            logger.info(f\"{check}: {'PASSED' if result else 'FAILED'}\")\n",
    "\n",
    "        logger.info(f\"Overall validation status: {'PASSED' if is_valid else 'FAILED'}\")\n",
    "\n",
    "        with open(self.config.status_file, 'w') as f:\n",
    "            json.dump({\"validation_status\": is_valid}, f, indent=4)\n",
    "\n",
    "        return is_valid"
   ]
  },
  {
   "cell_type": "code",
   "execution_count": null,
   "id": "63a0ea4a",
   "metadata": {},
   "outputs": [
    {
     "name": "stdout",
     "output_type": "stream",
     "text": [
      "[2025-07-18 17:56:04,827: INFO: helpers: yaml file: config_file\\config.yaml loaded successfully]\n",
      "[2025-07-18 17:56:04,834: INFO: helpers: yaml file: config_file\\params.yaml loaded successfully]\n",
      "[2025-07-18 17:56:04,838: INFO: helpers: yaml file: config_file\\schema.yaml loaded successfully]\n",
      "[2025-07-18 17:56:04,840: INFO: helpers: created directory at: artifacts]\n",
      "[2025-07-18 17:56:04,842: INFO: helpers: created directory at: artifacts/validation]\n",
      "[2025-07-18 17:56:05,087: INFO: 1904533634: Starting validation for data with shape: (100287, 13)]\n",
      "[2025-07-18 17:56:05,118: INFO: helpers: created directory at: artifacts/validation]\n",
      "[2025-07-18 17:56:05,120: INFO: 1904533634: column_presence: PASSED]\n",
      "[2025-07-18 17:56:05,121: INFO: 1904533634: data_types: PASSED]\n",
      "[2025-07-18 17:56:05,122: INFO: 1904533634: missing_values: PASSED]\n",
      "[2025-07-18 17:56:05,123: INFO: 1904533634: Overall validation status: PASSED]\n"
     ]
    }
   ],
   "source": [
    "try:\n",
    "    config = DataConfigurationManager()\n",
    "    data_validation_config = config.get_data_validation_config()\n",
    "    data_validation = Validation(data_validation_config)\n",
    "    data_validation.validator()\n",
    "except Exception as e:\n",
    "    raise CustomException(str(e), sys) from e"
   ]
  }
 ],
 "metadata": {
  "kernelspec": {
   "display_name": "WattPredictor",
   "language": "python",
   "name": "python3"
  },
  "language_info": {
   "codemirror_mode": {
    "name": "ipython",
    "version": 3
   },
   "file_extension": ".py",
   "mimetype": "text/x-python",
   "name": "python",
   "nbconvert_exporter": "python",
   "pygments_lexer": "ipython3",
   "version": "3.10.18"
  }
 },
 "nbformat": 4,
 "nbformat_minor": 5
}
