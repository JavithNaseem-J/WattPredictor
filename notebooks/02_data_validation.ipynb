{
 "cells": [
  {
   "cell_type": "code",
   "execution_count": 1,
   "id": "212c07d0",
   "metadata": {},
   "outputs": [],
   "source": [
    "import os\n",
    "import sys"
   ]
  },
  {
   "cell_type": "code",
   "execution_count": 2,
   "id": "c4e7058b",
   "metadata": {},
   "outputs": [],
   "source": [
    "os.chdir('../')"
   ]
  },
  {
   "cell_type": "code",
   "execution_count": 3,
   "id": "a4752a98",
   "metadata": {},
   "outputs": [],
   "source": [
    "sys.path.append(os.path.join(os.getcwd(), \"src\"))"
   ]
  },
  {
   "cell_type": "code",
   "execution_count": 4,
   "id": "97995627",
   "metadata": {},
   "outputs": [],
   "source": [
    "from electron.utils.helpers import *\n",
    "from electron.constants import *\n",
    "from electron.utils.exception import *\n",
    "from electron import logger\n",
    "from pathlib import Path\n",
    "from dataclasses import dataclass\n",
    "import pandas as pd"
   ]
  },
  {
   "cell_type": "code",
   "execution_count": 5,
   "id": "c96c6112",
   "metadata": {},
   "outputs": [],
   "source": [
    "@dataclass(frozen=True)\n",
    "class DataValidationConfig:\n",
    "    root_dir: Path\n",
    "    data_file: Path\n",
    "    status_file: Path\n",
    "    all_schema: dict"
   ]
  },
  {
   "cell_type": "code",
   "execution_count": 6,
   "id": "6ae13672",
   "metadata": {},
   "outputs": [],
   "source": [
    "class ConfigurationManager:\n",
    "    def __init__(\n",
    "        self, \n",
    "        config_filepath=CONFIG_PATH, \n",
    "        params_filepath=PARAMS_PATH, \n",
    "        schema_filepath=SCHEMA_PATH\n",
    "    ):\n",
    "        self.config = read_yaml(config_filepath)\n",
    "        self.params = read_yaml(params_filepath)\n",
    "        self.schema = read_yaml(schema_filepath)\n",
    "        create_directories([self.config.artifacts_root])\n",
    "\n",
    "    def get_data_validation_config(self) -> DataValidationConfig:\n",
    "        config = self.config.data_validation\n",
    "        schema = self.schema.columns\n",
    "        \n",
    "        create_directories([config.root_dir])\n",
    "        \n",
    "        data_validation_config = DataValidationConfig(\n",
    "            root_dir=config.root_dir,\n",
    "            status_file=config.status_file,\n",
    "            data_file=config.data_file,\n",
    "            all_schema=schema,\n",
    "        )\n",
    "        return data_validation_config"
   ]
  },
  {
   "cell_type": "code",
   "execution_count": 7,
   "id": "ab32e916",
   "metadata": {},
   "outputs": [],
   "source": [
    "class DataValidation:\n",
    "    def __init__(self, config: DataValidationConfig):\n",
    "        self.config = config\n",
    "\n",
    "    def validate_data_types(self, data: pd.DataFrame, schema: dict):\n",
    "\n",
    "        type_mapping = {\n",
    "            'int': ['int64', 'int32'],\n",
    "            'float': ['float64', 'float32'],\n",
    "            'object': ['object'],\n",
    "            'str': ['object'], \n",
    "        }\n",
    "\n",
    "        for col, expected_type in schema.items():\n",
    "            if col not in data.columns:\n",
    "                continue \n",
    "                \n",
    "            actual_dtype = str(data[col].dtype)\n",
    "            allowed_dtypes = type_mapping.get(expected_type, [expected_type])\n",
    "\n",
    "            if actual_dtype not in allowed_dtypes:\n",
    "                logger.error(f\"Column '{col}': Expected type '{expected_type}', got '{actual_dtype}'\")\n",
    "                return False\n",
    "        return True\n",
    "\n",
    "    def validate_column_presence(self, data: pd.DataFrame, schema: dict):\n",
    "        all_cols = list(data.columns)\n",
    "        expected_cols = set(schema.keys())\n",
    "        missing_cols = expected_cols - set(all_cols)\n",
    "\n",
    "        if missing_cols:\n",
    "            logger.error(f\"Missing columns: {missing_cols}\")\n",
    "            return False\n",
    "        return True\n",
    "\n",
    "    def validation(self):\n",
    "        data = pd.read_csv(self.config.data_file)\n",
    "        schema = self.config.all_schema\n",
    "\n",
    "        logger.info(f\"Starting validation for data with shape: {data.shape}\")\n",
    "            \n",
    "        validation_results = {}\n",
    "            \n",
    "        validation_results['column_presence'] = self.validate_column_presence(data, schema)\n",
    "        validation_results['data_types'] = self.validate_data_types(data, schema)\n",
    "            \n",
    "        is_valid = all(validation_results.values())\n",
    "        \n",
    "        create_directories([os.path.dirname(self.config.status_file)])\n",
    "        \n",
    "        for check, result in validation_results.items():\n",
    "            logger.info(f\"{check}: {'PASSED' if result else 'FAILED'}\")\n",
    "            \n",
    "        logger.info(f\"Overall validation status: {'PASSED' if is_valid else 'FAILED'}\")\n",
    "\n",
    "        with open(self.config.status_file, 'w') as f:\n",
    "            json.dump({\"validation_status\": is_valid}, f, indent=4)\n",
    "\n",
    "                \n",
    "        return is_valid"
   ]
  },
  {
   "cell_type": "code",
   "execution_count": 8,
   "id": "63a0ea4a",
   "metadata": {},
   "outputs": [
    {
     "name": "stdout",
     "output_type": "stream",
     "text": [
      "[2025-07-06 11:17:34,989: INFO: helpers: yaml file: config_file\\config.yaml loaded successfully]\n",
      "[2025-07-06 11:17:35,001: INFO: helpers: yaml file: config_file\\params.yaml loaded successfully]\n",
      "[2025-07-06 11:17:35,001: INFO: helpers: yaml file: config_file\\schema.yaml loaded successfully]\n",
      "[2025-07-06 11:17:35,001: INFO: helpers: created directory at: artifacts]\n",
      "[2025-07-06 11:17:35,001: INFO: helpers: created directory at: data_validation]\n",
      "[2025-07-06 11:17:35,218: INFO: 2223263066: Starting validation for data with shape: (100331, 12)]\n",
      "[2025-07-06 11:17:35,233: INFO: helpers: created directory at: artifacts/data_validation]\n",
      "[2025-07-06 11:17:35,233: INFO: 2223263066: column_presence: PASSED]\n",
      "[2025-07-06 11:17:35,233: INFO: 2223263066: data_types: PASSED]\n",
      "[2025-07-06 11:17:35,233: INFO: 2223263066: Overall validation status: PASSED]\n"
     ]
    }
   ],
   "source": [
    "try:\n",
    "    config = ConfigurationManager()\n",
    "    data_validation_config = config.get_data_validation_config()\n",
    "    data_validation = DataValidation(data_validation_config)\n",
    "    data_validation.validation()\n",
    "except Exception as e:\n",
    "    raise CustomException(str(e), sys) from e"
   ]
  },
  {
   "cell_type": "code",
   "execution_count": null,
   "id": "9e19f28c",
   "metadata": {},
   "outputs": [],
   "source": []
  }
 ],
 "metadata": {
  "kernelspec": {
   "display_name": "ele",
   "language": "python",
   "name": "python3"
  },
  "language_info": {
   "codemirror_mode": {
    "name": "ipython",
    "version": 3
   },
   "file_extension": ".py",
   "mimetype": "text/x-python",
   "name": "python",
   "nbconvert_exporter": "python",
   "pygments_lexer": "ipython3",
   "version": "3.10.18"
  }
 },
 "nbformat": 4,
 "nbformat_minor": 5
}
