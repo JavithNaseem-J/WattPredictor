{
 "cells": [
  {
   "cell_type": "code",
   "execution_count": 1,
   "id": "eb3ef160",
   "metadata": {},
   "outputs": [],
   "source": [
    "import os\n",
    "import sys\n",
    "os.chdir('../')\n",
    "sys.path.append(os.path.join(os.getcwd(), \"src\"))"
   ]
  },
  {
   "cell_type": "code",
   "execution_count": 2,
   "id": "d0d68bf7",
   "metadata": {},
   "outputs": [],
   "source": [
    "import os\n",
    "import sys\n",
    "import json\n",
    "import pandas as pd\n",
    "from pathlib import Path\n",
    "from evidently.report import Report\n",
    "from evidently.metric_preset import DataDriftPreset\n",
    "from evidently.metrics import (DatasetDriftMetric,ColumnDriftMetric,ColumnSummaryMetric)\n",
    "from WattPredictor.utils.feature import feature_store_instance\n",
    "from WattPredictor.entity.config_entity import DriftConfig\n",
    "from WattPredictor.config.data_config import DataConfigurationManager\n",
    "from WattPredictor.utils.helpers import create_directories\n",
    "from WattPredictor.utils.exception import CustomException\n",
    "from WattPredictor.utils.logging import logger\n",
    "\n",
    "\n",
    "class Drift:\n",
    "    def __init__(self,config: DriftConfig):\n",
    "        \n",
    "        self.config = config\n",
    "        self.feature_store = feature_store_instance()\n",
    "\n",
    "\n",
    "    def _load_data(self, start_date, end_date):\n",
    "        try:\n",
    "            df, _ = self.feature_store.get_training_data('elec_wx_features_view')\n",
    "            df['date'] = pd.to_datetime(df['date'], utc=True)\n",
    "            df = df[(df['date'] >= start_date) & (df['date'] <= end_date)]\n",
    "            df = df.drop(columns=[\"date_str\"], errors=\"ignore\")\n",
    "            return df\n",
    "        except Exception as e:\n",
    "            raise CustomException(f\"Error loading data from Hopsworks: {e}\", sys)\n",
    "\n",
    "    def Detect(self):\n",
    "        try:\n",
    "            baseline_df = self._load_data(self.config.baseline_start, self.config.baseline_end)\n",
    "            current_df = self._load_data(self.config.current_start, self.config.current_end)\n",
    "\n",
    "            report = Report(metrics=[\n",
    "                DataDriftPreset(),\n",
    "                DatasetDriftMetric(),\n",
    "                ColumnDriftMetric(column_name=\"temperature_2m\"),\n",
    "                ColumnDriftMetric(column_name=\"sub_region_code\"),\n",
    "                ColumnSummaryMetric(column_name=\"demand\")\n",
    "            ])\n",
    "\n",
    "            report.run(reference_data=baseline_df, current_data=current_df)\n",
    "            create_directories([self.config.report_dir])\n",
    "            html_path = self.config.report_dir / \"drift_report.html\"\n",
    "            json_path = self.config.report_dir / \"drift_report.json\"\n",
    "\n",
    "            report.save_html(str(html_path))\n",
    "            report_dict = report.as_dict()\n",
    "\n",
    "            def json_serializer(obj):\n",
    "                if hasattr(obj, 'isoformat'):\n",
    "                    return obj.isoformat()\n",
    "                elif hasattr(obj, 'tolist'):\n",
    "                    return obj.tolist()\n",
    "                elif hasattr(obj, '__dict__'):\n",
    "                    return obj.__dict__\n",
    "                else:\n",
    "                    return str(obj)\n",
    "\n",
    "            with open(json_path, \"w\") as f:\n",
    "                json.dump(report_dict, f, indent=4, default=json_serializer)\n",
    "\n",
    "            drift_detected = report_dict['metrics'][0]['result'].get('dataset_drift', False)\n",
    "\n",
    "            logger.info(f\"Drift Detected: {drift_detected}\")\n",
    "            logger.info(f\"Report saved at {html_path}\")\n",
    "            return drift_detected, report_dict\n",
    "\n",
    "        except Exception as e:\n",
    "            raise CustomException(f\"Drift detection failed: {e}\", sys)"
   ]
  },
  {
   "cell_type": "code",
   "execution_count": 3,
   "id": "ad5ac3c2",
   "metadata": {},
   "outputs": [
    {
     "name": "stdout",
     "output_type": "stream",
     "text": [
      "[2025-07-17 12:43:38,818: INFO: helpers: yaml file: config_file\\config.yaml loaded successfully]\n",
      "[2025-07-17 12:43:38,837: INFO: helpers: yaml file: config_file\\params.yaml loaded successfully]\n"
     ]
    },
    {
     "name": "stdout",
     "output_type": "stream",
     "text": [
      "[2025-07-17 12:43:38,842: INFO: helpers: yaml file: config_file\\schema.yaml loaded successfully]\n",
      "[2025-07-17 12:43:38,843: INFO: helpers: created directory at: artifacts]\n",
      "[2025-07-17 12:43:38,843: INFO: helpers: created directory at: artifacts/data_drift]\n",
      "[2025-07-17 12:43:38,853: INFO: helpers: yaml file: config_file\\config.yaml loaded successfully]\n",
      "[2025-07-17 12:43:38,856: INFO: helpers: yaml file: config_file\\params.yaml loaded successfully]\n",
      "[2025-07-17 12:43:38,856: INFO: helpers: yaml file: config_file\\schema.yaml loaded successfully]\n",
      "[2025-07-17 12:43:38,856: INFO: external: Initializing external client]\n",
      "[2025-07-17 12:43:38,856: INFO: external: Base URL: https://c.app.hopsworks.ai:443]\n",
      "[2025-07-17 12:43:41,836: INFO: python: Python Engine initialized.]\n",
      "\n",
      "Logged in to project, explore it here https://c.app.hopsworks.ai:443/p/1240214\n",
      "[2025-07-17 12:43:44,636: INFO: feature_store: Connected to Hopsworks Feature Store: WattPredictor]\n",
      "Finished: Reading data from Hopsworks, using Hopsworks Feature Query Service (2.78s) \n",
      "[2025-07-17 12:43:55,021: WARNING: warnings: VersionWarning: Incremented version to `5`.\n",
      "]\n",
      "[2025-07-17 12:43:55,021: INFO: feature_store: Retrieved training data from Feature View 'elec_wx_features_view'.]\n",
      "Finished: Reading data from Hopsworks, using Hopsworks Feature Query Service (2.85s) \n",
      "[2025-07-17 12:44:02,953: WARNING: warnings: VersionWarning: Incremented version to `6`.\n",
      "]\n",
      "[2025-07-17 12:44:02,953: INFO: feature_store: Retrieved training data from Feature View 'elec_wx_features_view'.]\n",
      "[2025-07-17 12:44:09,470: INFO: helpers: created directory at: artifacts\\data_drift]\n",
      "[2025-07-17 12:44:13,470: INFO: 2237292702: Drift Detected: False]\n",
      "[2025-07-17 12:44:13,470: INFO: 2237292702: Report saved at artifacts\\data_drift\\drift_report.html]\n"
     ]
    }
   ],
   "source": [
    "try:\n",
    "    config = DataConfigurationManager()\n",
    "    drift_config = config.get_data_drift_config()\n",
    "    drift_detector = Drift(config=drift_config)\n",
    "    drift_detected, report_dict = drift_detector.Detect()        \n",
    "        \n",
    "except Exception as e:\n",
    "    raise CustomException(e, sys)"
   ]
  }
 ],
 "metadata": {
  "kernelspec": {
   "display_name": "WattPredictor",
   "language": "python",
   "name": "python3"
  },
  "language_info": {
   "codemirror_mode": {
    "name": "ipython",
    "version": 3
   },
   "file_extension": ".py",
   "mimetype": "text/x-python",
   "name": "python",
   "nbconvert_exporter": "python",
   "pygments_lexer": "ipython3",
   "version": "3.10.18"
  }
 },
 "nbformat": 4,
 "nbformat_minor": 5
}
