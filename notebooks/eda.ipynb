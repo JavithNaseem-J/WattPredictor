{
 "cells": [
  {
   "cell_type": "code",
   "execution_count": 1,
   "id": "1b463292",
   "metadata": {},
   "outputs": [],
   "source": [
    "import os"
   ]
  },
  {
   "cell_type": "code",
   "execution_count": 10,
   "id": "a8e533aa",
   "metadata": {},
   "outputs": [],
   "source": [
    "import pandas as pd"
   ]
  },
  {
   "cell_type": "code",
   "execution_count": 8,
   "id": "4198b19b",
   "metadata": {},
   "outputs": [
    {
     "data": {
      "text/plain": [
       "period                   object\n",
       "subba                    object\n",
       "subba-name               object\n",
       "parent                   object\n",
       "parent-name              object\n",
       "value                     int64\n",
       "value-units              object\n",
       "date                     object\n",
       "temperature_2m          float64\n",
       "weather_code            float64\n",
       "relative_humidity_2m    float64\n",
       "wind_speed_10m          float64\n",
       "dtype: object"
      ]
     },
     "execution_count": 8,
     "metadata": {},
     "output_type": "execute_result"
    }
   ],
   "source": [
    "from pathlib import Path\n",
    "import pandas as pd\n",
    "\n",
    "# Start from notebook location, then go one level up\n",
    "BASE_DIR = Path.cwd().parent\n",
    "\n",
    "# Build the path to the CSV file\n",
    "csv_path = BASE_DIR / \"artifacts\" / \"data_ingestion\" / \"data\" / \"elec_wx_demand.csv\"\n",
    "\n",
    "df = pd.read_csv(csv_path)\n",
    "df.dtypes"
   ]
  },
  {
   "cell_type": "code",
   "execution_count": null,
   "id": "1935ca93",
   "metadata": {},
   "outputs": [],
   "source": []
  }
 ],
 "metadata": {
  "kernelspec": {
   "display_name": "ele",
   "language": "python",
   "name": "python3"
  },
  "language_info": {
   "codemirror_mode": {
    "name": "ipython",
    "version": 3
   },
   "file_extension": ".py",
   "mimetype": "text/x-python",
   "name": "python",
   "nbconvert_exporter": "python",
   "pygments_lexer": "ipython3",
   "version": "3.10.18"
  }
 },
 "nbformat": 4,
 "nbformat_minor": 5
}
