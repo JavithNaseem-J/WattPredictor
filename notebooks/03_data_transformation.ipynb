{
 "cells": [
  {
   "cell_type": "code",
   "execution_count": 1,
   "id": "e4d21fa6",
   "metadata": {},
   "outputs": [],
   "source": [
    "import os\n",
    "import sys"
   ]
  },
  {
   "cell_type": "code",
   "execution_count": 2,
   "id": "b5a82b4d",
   "metadata": {},
   "outputs": [],
   "source": [
    "os.chdir('../')"
   ]
  },
  {
   "cell_type": "code",
   "execution_count": 3,
   "id": "5b945b44",
   "metadata": {},
   "outputs": [],
   "source": [
    "sys.path.append(os.path.join(os.getcwd(), \"src\"))"
   ]
  },
  {
   "cell_type": "code",
   "execution_count": 4,
   "id": "42bdf4f9",
   "metadata": {},
   "outputs": [],
   "source": [
    "import os\n",
    "import sys\n",
    "import json\n",
    "import joblib\n",
    "import pandas as pd\n",
    "import numpy as np\n",
    "from pathlib import Path\n",
    "from datetime import datetime\n",
    "from sklearn.preprocessing import LabelEncoder\n",
    "from pandas.tseries.holiday import USFederalHolidayCalendar as calendar\n",
    "from WattPredictor.entity.config_entity import EngineeringConfig\n",
    "from WattPredictor.config.data_config import DataConfigurationManager\n",
    "from WattPredictor.utils.feature import feature_store_instance\n",
    "from WattPredictor.utils.helpers import create_directories, save_bin\n",
    "from WattPredictor.utils.exception import CustomException\n",
    "from WattPredictor.utils.logging import logger\n",
    "\n",
    "class Engineering:\n",
    "    def __init__(self, config: EngineeringConfig):\n",
    "        self.config = config\n",
    "        self.feature_store = feature_store_instance()\n",
    "\n",
    "    def check_status(self):\n",
    "        try:\n",
    "            with open(self.config.status_file, 'r') as f:\n",
    "                status_data = json.load(f)\n",
    "            return status_data.get(\"validation_status\", False)\n",
    "        except Exception as e:\n",
    "            logger.warning(f\"Validation status check failed: {e}\")\n",
    "            return False\n",
    "\n",
    "    def basic_preprocessing(self) -> pd.DataFrame:\n",
    "        try:\n",
    "            fg = self.feature_store.feature_store.get_feature_group(name=\"elec_wx_demands\", version=2)\n",
    "            df = fg.read()\n",
    "            le = LabelEncoder()\n",
    "            df['sub_region_code'] = le.fit_transform(df['subba'])\n",
    "            df.rename(columns={'subba': 'sub_region', 'value': 'demand'}, inplace=True)\n",
    "            df = df[['date_str', 'date', 'sub_region_code', 'demand', 'temperature_2m']]\n",
    "\n",
    "            create_directories([os.path.dirname(self.config.label_encoder)])\n",
    "            save_bin(le, self.config.label_encoder)\n",
    "            self.feature_store.upload_file_safely(self.config.label_encoder, \"label_encoder.pkl\")\n",
    "\n",
    "            logger.info(\"Label encoding and preprocessing complete. Columns: {}\".format(list(df.columns)))\n",
    "            return df\n",
    "        except Exception as e:\n",
    "            raise CustomException(f\"Failed to preprocess data: {e}\", sys)\n",
    "\n",
    "    def feature_engineering(self, df: pd.DataFrame) -> pd.DataFrame:\n",
    "        try:\n",
    "            df['date'] = pd.to_datetime(df['date'], utc=True)\n",
    "            df['hour'] = df['date'].dt.hour.astype('int64')\n",
    "            df['day_of_week'] = df['date'].dt.dayofweek.astype('int64')\n",
    "            df['month'] = df['date'].dt.month.astype('int64')\n",
    "            df['is_weekend'] = df['day_of_week'].isin([5, 6]).astype('int64')\n",
    "            holidays = calendar().holidays(start=df['date'].min(), end=df['date'].max())\n",
    "            df['is_holiday'] = df['date'].isin(holidays).astype('int64')\n",
    "            df['temperature_2m'] = df['temperature_2m'].astype('float64')\n",
    "            df['demand'] = df['demand'].astype('float64')\n",
    "\n",
    "            self.feature_store.create_feature_group(\n",
    "                name=\"elec_wx_features\",\n",
    "                df=df,\n",
    "                primary_key=[\"date_str\",\"sub_region_code\"],\n",
    "                event_time=\"date\",\n",
    "                description=\"Engineered electricity demand features\",\n",
    "                online_enabled=True\n",
    "            )\n",
    "\n",
    "            logger.info(\"Feature group 'elec_wx_features' created successfully. Columns: {}\".format(list(df.columns)))\n",
    "            return df\n",
    "        except Exception as e:\n",
    "            raise CustomException(f\"Failed to perform feature engineering: {e}\", sys)\n",
    "\n",
    "    def transform(self):\n",
    "        if not self.check_status():\n",
    "            raise CustomException(\"Validation failed. Aborting transformation.\", sys)\n",
    "        try:\n",
    "            df = self.feature_engineering(self.basic_preprocessing())\n",
    "            df.sort_values(\"date\", inplace=True)\n",
    "\n",
    "            self.feature_store.create_feature_view(\n",
    "                name=\"elec_wx_features_view\",\n",
    "                feature_group_name=\"elec_wx_features\",\n",
    "                features=[\n",
    "                    \"date\", \"sub_region_code\", \"demand\", \"temperature_2m\",\n",
    "                    \"hour\", \"day_of_week\", \"month\", \"is_weekend\", \"is_holiday\"\n",
    "                ]\n",
    "            )\n",
    "\n",
    "            self.feature_store.save_training_dataset(\n",
    "                feature_view_name=\"elec_wx_features_view\",\n",
    "                version_description=\"Training dataset with essential features for electricity demand prediction\",\n",
    "                output_format=\"csv\"\n",
    "            )\n",
    "\n",
    "            logger.info(\"Feature view 'elec_wx_features_view' and training dataset saved successfully.\")\n",
    "            return df\n",
    "        except Exception as e:\n",
    "            raise CustomException(f\"Failed to transform data: {e}\", sys)"
   ]
  },
  {
   "cell_type": "code",
   "execution_count": 5,
   "id": "d60c4364",
   "metadata": {},
   "outputs": [
    {
     "name": "stdout",
     "output_type": "stream",
     "text": [
      "[2025-07-20 18:41:12,099: INFO: helpers: yaml file: config_file\\config.yaml loaded successfully]\n",
      "[2025-07-20 18:41:12,108: INFO: helpers: yaml file: config_file\\params.yaml loaded successfully]\n",
      "[2025-07-20 18:41:12,113: INFO: helpers: yaml file: config_file\\schema.yaml loaded successfully]\n",
      "[2025-07-20 18:41:12,116: INFO: helpers: created directory at: artifacts]\n",
      "[2025-07-20 18:41:12,119: INFO: helpers: created directory at: artifacts/engineering]\n",
      "[2025-07-20 18:41:12,131: INFO: helpers: yaml file: config_file\\config.yaml loaded successfully]\n",
      "[2025-07-20 18:41:12,134: INFO: external: Initializing external client]\n",
      "[2025-07-20 18:41:12,136: INFO: external: Base URL: https://c.app.hopsworks.ai:443]\n",
      "[2025-07-20 18:41:15,469: INFO: python: Python Engine initialized.]\n",
      "\n",
      "Logged in to project, explore it here https://c.app.hopsworks.ai:443/p/1240214\n",
      "[2025-07-20 18:41:18,408: INFO: feature_store: Connected to Hopsworks Feature Store: WattPredictor]\n",
      "Finished: Reading data from Hopsworks, using Hopsworks Feature Query Service (13.16s) \n",
      "[2025-07-20 18:41:35,215: INFO: helpers: created directory at: artifacts\\engineering]\n",
      "[2025-07-20 18:41:35,218: INFO: helpers: binary file saved at: artifacts\\engineering\\label_encoder.pkl]\n"
     ]
    },
    {
     "data": {
      "application/vnd.jupyter.widget-view+json": {
       "model_id": "0b0de8a00cce44bfac10bca122aea2b0",
       "version_major": 2,
       "version_minor": 0
      },
      "text/plain": [
       "Uploading f:\\WattPredictor\\artifacts\\engineering\\label_encoder.pkl: 0.000%|          | 0/549 elapsed<00:00 rem…"
      ]
     },
     "metadata": {},
     "output_type": "display_data"
    },
    {
     "name": "stdout",
     "output_type": "stream",
     "text": [
      "[2025-07-20 18:41:38,463: INFO: feature_store: Uploaded file to Feature Store: label_encoder.pkl]\n",
      "[2025-07-20 18:41:38,465: INFO: 614156716: Label encoding and preprocessing complete. Columns: ['date_str', 'date', 'sub_region_code', 'demand', 'temperature_2m']]\n",
      "Feature Group created successfully, explore it at \n",
      "https://c.app.hopsworks.ai:443/p/1240214/fs/1223749/fg/1494587\n"
     ]
    },
    {
     "name": "stderr",
     "output_type": "stream",
     "text": [
      "Uploading Dataframe: 100.00% |██████████| Rows 95799/95799 | Elapsed Time: 00:27 | Remaining Time: 00:00\n"
     ]
    },
    {
     "name": "stdout",
     "output_type": "stream",
     "text": [
      "Launching job: elec_wx_features_2_offline_fg_materialization\n",
      "Job started successfully, you can follow the progress at \n",
      "https://c.app.hopsworks.ai:443/p/1240214/jobs/named/elec_wx_features_2_offline_fg_materialization/executions\n",
      "[2025-07-20 18:42:22,058: INFO: feature_store: Feature Group 'elec_wx_features' v2 created successfully.]\n",
      "[2025-07-20 18:42:22,060: INFO: 614156716: Feature group 'elec_wx_features' created successfully. Columns: ['date_str', 'date', 'sub_region_code', 'demand', 'temperature_2m', 'hour', 'day_of_week', 'month', 'is_weekend', 'is_holiday']]\n",
      "Feature view created successfully, explore it at \n",
      "https://c.app.hopsworks.ai:443/p/1240214/fs/1223749/fv/elec_wx_features_view/version/1\n",
      "[2025-07-20 18:42:24,873: INFO: feature_store: Feature View 'elec_wx_features_view' v1 created successfully.]\n",
      "Training dataset job started successfully, you can follow the progress at \n",
      "http://c.app.hopsworks.ai/p/1240214/jobs/named/elec_wx_features_view_1_create_fv_td_20072025131319/executions\n",
      "[2025-07-20 18:42:38,945: INFO: execution_engine: Waiting for execution to finish. Current state: SUBMITTED. Final status: UNDEFINED]\n",
      "[2025-07-20 18:42:42,262: INFO: execution_engine: Waiting for execution to finish. Current state: RUNNING. Final status: UNDEFINED]\n",
      "[2025-07-20 18:43:32,257: INFO: execution_engine: Waiting for execution to finish. Current state: AGGREGATING_LOGS. Final status: SUCCEEDED]\n",
      "[2025-07-20 18:43:32,569: INFO: execution_engine: Waiting for log aggregation to finish.]\n",
      "[2025-07-20 18:43:41,611: INFO: execution_engine: Execution finished successfully.]\n",
      "[2025-07-20 18:43:41,950: WARNING: warnings: VersionWarning: Incremented version to `1`.\n",
      "]\n",
      "[2025-07-20 18:43:41,952: INFO: feature_store: Training dataset created for Feature View 'elec_wx_features_view'.]\n",
      "[2025-07-20 18:43:41,956: INFO: 614156716: Feature view 'elec_wx_features_view' and training dataset saved successfully.]\n"
     ]
    }
   ],
   "source": [
    "try:\n",
    "        config = DataConfigurationManager()\n",
    "        data_transformation_config = config.get_data_transformation_config()\n",
    "        data_transformation = Engineering(config=data_transformation_config)\n",
    "        df= data_transformation.transform()\n",
    "\n",
    "except Exception as e:\n",
    "        raise CustomException(str(e), sys)"
   ]
  }
 ],
 "metadata": {
  "kernelspec": {
   "display_name": "WattPredictor",
   "language": "python",
   "name": "python3"
  },
  "language_info": {
   "codemirror_mode": {
    "name": "ipython",
    "version": 3
   },
   "file_extension": ".py",
   "mimetype": "text/x-python",
   "name": "python",
   "nbconvert_exporter": "python",
   "pygments_lexer": "ipython3",
   "version": "3.10.18"
  }
 },
 "nbformat": 4,
 "nbformat_minor": 5
}
